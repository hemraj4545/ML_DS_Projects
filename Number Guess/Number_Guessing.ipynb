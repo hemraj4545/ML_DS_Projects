{
  "nbformat": 4,
  "nbformat_minor": 0,
  "metadata": {
    "colab": {
      "name": "Number Guessing.ipynb",
      "provenance": [],
      "collapsed_sections": []
    },
    "kernelspec": {
      "name": "python3",
      "display_name": "Python 3"
    }
  },
  "cells": [
    {
      "cell_type": "code",
      "metadata": {
        "id": "9m2jpfhM9o20",
        "colab_type": "code",
        "colab": {}
      },
      "source": [
        "import random\n",
        "\n",
        "num = random.randint(1,100)\n",
        "hint_score = 100\n",
        "\n",
        "def hint(num, hint_score):\n",
        "  hint_needed = (input(\"Do you need a hint ?? \"))\n",
        "  if hint_needed == 'Y' or hint_needed == 'y':\n",
        "    hint_score -= 10\n",
        "    if num%2==0:\n",
        "      print(\"Number is divisible by 2.\")\n",
        "    else:\n",
        "      print(\"Number is not divisible by 2.\")\n",
        "    return hint_score\n",
        "  elif hint_needed == 'N' or hint_needed == 'n':\n",
        "    print(\"Hint is not needed.\")\n",
        "    return hint_score\n",
        "\n",
        "print(\"WELCOME TO THE GUESSING GAME !!!\\n\")\n",
        "print(\"----------------------------------\")\n",
        "print(\"Your Score is 0 and Hint Points is deafult set to 100 and it will reduce if you take any hints by 10 points.\\n\\n\")\n",
        "while(hint_score > 0):\n",
        "  user = int(input(\"Enter number : \"))\n",
        "  if user > num:\n",
        "    print(\"Nope ! You guessed it wrong!!! Please enter a lesser value.\")\n",
        "    hint_score = hint(num, hint_score)\n",
        "    print(\"Your hint score is \",hint_score)\n",
        "  elif user < num:\n",
        "    print(\"Nope ! You guessed it wrong!!! Please enter a larger value.\")\n",
        "    hint_score = hint(num, hint_score)\n",
        "    print(\"Your hint score is \",hint_score)\n",
        "  elif user == num:\n",
        "    print(\"Voila!!! You guessed it right. The number is {}.\".format(num))\n",
        "    break"
      ],
      "execution_count": null,
      "outputs": []
    }
  ]
}
