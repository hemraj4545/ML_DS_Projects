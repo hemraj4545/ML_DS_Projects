{
  "nbformat": 4,
  "nbformat_minor": 0,
  "metadata": {
    "colab": {
      "name": "COVID-19/SARS B-cell Epitope Prediction.ipynb",
      "provenance": [],
      "collapsed_sections": [],
      "authorship_tag": "ABX9TyNyJ4FVzJGUudlG0X0uRagx",
      "include_colab_link": true
    },
    "kernelspec": {
      "name": "python3",
      "display_name": "Python 3"
    }
  },
  "cells": [
    {
      "cell_type": "markdown",
      "metadata": {
        "id": "view-in-github",
        "colab_type": "text"
      },
      "source": [
        "<a href=\"https://colab.research.google.com/github/hemraj4545/Projects/blob/master/COVID_19_Epitope_Prediction/COVID_19_SARS_B_cell_Epitope_Prediction.ipynb\" target=\"_parent\"><img src=\"https://colab.research.google.com/assets/colab-badge.svg\" alt=\"Open In Colab\"/></a>"
      ]
    },
    {
      "cell_type": "code",
      "metadata": {
        "id": "j6ZAARz3GTrV",
        "colab_type": "code",
        "colab": {
          "base_uri": "https://localhost:8080/",
          "height": 74
        },
        "outputId": "275551c0-f6c1-4221-d410-0747336c47f8"
      },
      "source": [
        "import pandas as pd\n",
        "import seaborn as sns\n",
        "import numpy as np\n",
        "import matplotlib.pyplot as plt"
      ],
      "execution_count": 1,
      "outputs": [
        {
          "output_type": "stream",
          "text": [
            "/usr/local/lib/python3.6/dist-packages/statsmodels/tools/_testing.py:19: FutureWarning: pandas.util.testing is deprecated. Use the functions in the public API at pandas.testing instead.\n",
            "  import pandas.util.testing as tm\n"
          ],
          "name": "stderr"
        }
      ]
    },
    {
      "cell_type": "code",
      "metadata": {
        "id": "jd8nIk_rGzhh",
        "colab_type": "code",
        "colab": {}
      },
      "source": [
        "bcell = pd.read_csv(\"input_bcell.csv\", nrows=25000)\n",
        "covid = pd.read_csv(\"input_covid.csv\", nrows=25000)\n",
        "sars = pd.read_csv(\"input_sars.csv\")"
      ],
      "execution_count": 2,
      "outputs": []
    },
    {
      "cell_type": "markdown",
      "metadata": {
        "id": "zhq65skIOlOH",
        "colab_type": "text"
      },
      "source": [
        "This contains three data files:\n",
        "\n",
        "    input_bcell.csv : this is our main training data. The number of rows is 14387 for all combinations of 14362 peptides and 757 proteins.\n",
        "    input_sars.csv : this is also our main training data. The number of rows is 520.\n",
        "    input_covid.csv : this is our target data. there is no label data in columns.\n",
        "\n",
        "All of three datasets consists of information of protein and peptide:\n",
        "\n",
        "    parent_protein_id : parent protein ID\n",
        "    protein_seq : parent protein sequence\n",
        "    start_position : start position of peptide\n",
        "    end_position : end position of peptide\n",
        "    peptide_seq : peptide sequence\n",
        "    chou_fasman : peptide feature, $\\beta$ turn\n",
        "    emini : peptide feature, relative surface accessibility\n",
        "    kolaskar_tongaonkar : peptide feature, antigenicity\n",
        "    parker : peptide feature, hydrophobicity\n",
        "    isoelectric_point : protein feature\n",
        "    aromaticity: protein feature\n",
        "    hydrophobicity : protein feature\n",
        "    stability : protein feature\n",
        "\n",
        "and bcell and sars dataset have antibody valence(target value):\n",
        "\n",
        "    target : antibody valence (target value)\n"
      ]
    },
    {
      "cell_type": "markdown",
      "metadata": {
        "id": "H9A2BrR8IBC9",
        "colab_type": "text"
      },
      "source": [
        "## Chou and Fasman beta turn prediction\n",
        "\n",
        "- Reference: [Chou PY, Fasman GD. Prediction of the secondary structure of proteins from their amino acid sequence. Adv Enzymol Relat Areas Mol Biol. 1978;47:45-148.](http://www.ncbi.nlm.nih.gov/entrez/query.fcgi?cmd=Retrieve&db=pubmed&dopt=Abstract&list_uids=364941)\n",
        "\n",
        "- Description: The rationale for predicting turns to predict antibody epitopes is based on the paper by [Pellequer et al, Immunology Letters, 36 (1993) 83-99.](http://www.ncbi.nlm.nih.gov/pubmed/7688347) Instead of implementing the turn scale of that paper which has some non-standard properties, we decided to use the Chou and Fasman scale which is commonly used to predict beta turns as described in the reference link above.\n",
        "\n",
        "**Scale**\n",
        "\n",
        "<table>\n",
        "<thead>\n",
        "\t\t\t\t\t\t\t<tr>\n",
        "\t\t\t\t\t\t\t\t<th>A</th><th>C</th><th>D</th><th>E</th><th>F</th><th>G</th><th>H</th><th>I</th><th>K</th><th>L</th><th>M</th><th>N</th><th>P</th><th>Q</th><th>R</th><th>S</th><th>T</th><th>V</th><th>W</th><th>Y</th>\n",
        "\t\t\t\t\t\t\t</tr>\n",
        "\t\t\t\t\t\t</thead>\n",
        "\t\t\t\t\t\t<tr>\n",
        "\t\t\t\t\t\t\t<td>0.66</td><td>1.19</td><td>1.46</td><td>0.74</td><td>0.6</td><td>1.56</td><td>0.95</td><td>0.47</td><td>1.01</td><td>0.59</td><td>0.6</td><td>1.56</td><td>1.52</td><td>0.98</td><td>0.95</td><td>1.43</td><td>0.96</td><td>0.5</td><td>0.96</td><td>1.14</td>\n",
        "\t\t\t\t\t\t</tr>\n",
        "\t\t\t\t\t</table>\n",
        "\n",
        "## Emini surface accessibility scale\n",
        "\n",
        "- Reference: [Emini EA, Hughes JV, Perlow DS, Boger J. Induction of hepatitis A virus-neutralizing antibody by a virus-specific synthetic peptide. J Virol. 1985 Sep;55(3):836-9.](http://www.ncbi.nlm.nih.gov/entrez/query.fcgi?cmd=Retrieve&db=pubmed&dopt=Abstract&list_uids=2991600)\n",
        "\n",
        "- Description: The calculation was based on surface accessibility scale on a product instead of an addition within the window. The accessibility profile was obtained using the formulae Sn = (n+4+i) (0.37)-6 where Sn is the surface probability, dn is the fractional surface probability value, and i vary from 1 to 6. A hexapeptide sequence with Sn greater than 1.0 indicates an increased probability for being found on the surface.\n",
        "\n",
        "**Scale**\n",
        "\n",
        "<table>\n",
        "<thead>\n",
        "\t<tr>\n",
        "\t\t<th>A</th><th>C</th><th>D</th><th>E</th><th>F</th><th>G</th><th>H</th><th>I</th><th>K</th><th>L</th><th>M</th><th>N</th><th>P</th><th>Q</th><th>R</th><th>S</th><th>T</th><th>V</th><th>W</th><th>Y</th>\n",
        "\t</tr>\n",
        "</thead>\n",
        "<tr>\n",
        "\t<td>0.49</td><td>0.26</td><td>0.81</td><td>0.84</td><td>0.42</td><td>0.48</td><td>0.66</td><td>0.34</td><td>0.97</td><td>0.4</td><td>0.48</td><td>0.78</td><td>0.75</td><td>0.84</td><td>0.95</td><td>0.65</td><td>0.7</td><td>0.36</td><td>0.51</td><td>0.76</td>\n",
        "</tr>\n",
        "</table>\n",
        "\n",
        "## Karplus and Schulz flexibility scale\n",
        "\n",
        "- Reference: Karplus PA, Schulz GE. Prediction of Chain Flexibility in Proteins - A tool for the Selection of Peptide Antigens. Naturwissenschafren 1985; 72:212-3.\n",
        "\n",
        "- Description: In this method, flexibility scale based on mobility of protein segments on the basis of the known temperature B factors of the a-carbons of 31 proteins of known structure was constructed. The calculation based on a flexibility scale is similar to classical calculation, except that the center is the first amino acid of the six amino acids window length, and there are three scales for describing flexibility instead of a single one.\n",
        "\n",
        "## Kolaskar and Tongaonkar antigenicity scale\n",
        "\n",
        "- Reference: [Kolaskar AS, Tongaonkar PC. A semi-empirical method for prediction of antigenic determinants on protein antigens. FEBS Lett. 1990 Dec 10;276(1-2):172-4.](http://www.ncbi.nlm.nih.gov/entrez/query.fcgi?cmd=Retrieve&db=pubmed&dopt=Abstract&list_uids=1702393)\n",
        "\n",
        "- Description: A semi-empirical method which makes use of physicochemical properties of amino acid residues and their frequencies of occurrence in experimentally known segmental epitopes was developed to predict antigenic determinants on proteins. Application of this method to a large number of proteins has shown by the authors that the method can predict antigenic determinants with about 75% accuracy which is better than most of the known methods.\n",
        "\n",
        "**Scale**\n",
        "\n",
        "<table>\n",
        "\t\t\t\t\t\t<thead>\n",
        "\t\t\t\t\t\t\t<tr>\n",
        "\t\t\t\t\t\t\t\t<th>A</th><th>C</th><th>D</th><th>E</th><th>F</th><th>G</th><th>H</th><th>I</th><th>K</th><th>L</th><th>M</th><th>N</th><th>P</th><th>Q</th><th>R</th><th>S</th><th>T</th><th>V</th><th>W</th><th>Y</th>\n",
        "\t\t\t\t\t\t\t</tr>\n",
        "\t\t\t\t\t\t</thead>\n",
        "\t\t\t\t\t\t<tr>\n",
        "\t\t\t\t\t\t\t<td>1.064</td><td>1.412</td><td>0.866</td><td>0.851</td><td>1.091</td><td>0.874</td><td>1.105</td><td>1.152</td><td>0.93</td><td>1.25</td><td>0.826</td><td>0.776</td><td>1.064</td><td>1.015</td><td>0.873</td><td>1.012</td><td>0.909</td><td>1.383</td><td>0.893</td><td>1.161</td> \n",
        "\t\t\t\t\t\t</tr>\n",
        "\t\t\t\t\t</table>\n",
        "\n",
        "## Parker Hydrophilicity Prediction\n",
        "\n",
        "- Reference: [Parker JM, Guo D, Hodges RS. New hydrophilicity scale derived from high-performance liquid chromatography peptide retention data: correlation of predicted surface residues with antigenicity and X-ray-derived accessible sites. Biochemistry. 1986 Sep 23; 25(19):5425-32.](http://www.ncbi.nlm.nih.gov/entrez/query.fcgi?cmd=Retrieve&db=pubmed&dopt=Abstract&list_uids=2430611)\n",
        "\n",
        "- Description: In this method, hydrophilic scale based on peptide retention times during high-performance liquid chromatography (HPLC) on a reversed-phase column was constructed. A window of seven residues was used for analyzing epitope region. The corresponding value of the scale was introduced for each of the seven residues and the arithmetical mean of the seven residue value was assigned to the fourth, (i+3), residue in the segment.\n",
        "\n",
        "**Scale**\n",
        "<table>\n",
        "\t\t\t\t\t\t<thead>\n",
        "\t\t\t\t\t\t\t<tr>\n",
        "\t\t\t\t\t\t\t\t<th>A</th><th>C</th><th>D</th><th>E</th><th>F</th><th>G</th><th>H</th><th>I</th><th>K</th><th>L</th><th>M</th><th>N</th><th>P</th><th>Q</th><th>R</th><th>S</th><th>T</th><th>V</th><th>W</th><th>Y</th>\n",
        "\t\t\t\t\t\t\t</tr>\n",
        "\t\t\t\t\t\t</thead>\n",
        "\t\t\t\t\t\t<tr>\n",
        "\t\t\t\t\t\t\t<td>2.1</td><td>1.4</td><td>10.0</td><td>7.8</td><td>-9.2</td><td>5.7</td><td>2.1</td><td>-8.0</td><td>5.7</td><td>-9.2</td><td>-4.2</td><td>7.0</td><td>2.1</td><td>6.0</td><td>4.2</td><td>6.5</td><td>5.2</td><td>-3.7</td><td>-10.0</td><td>-1.9</td>\n",
        "\t\t\t\t\t\t</tr>\n",
        "\t\t\t\t\t</table>\n",
        "\n",
        "## Isoelectric Point\n",
        "\n",
        "![](https://www.antibodysociety.org/wordpress/wp-content/uploads/2015/06/background-300x300.jpg)\n",
        "\n",
        "One important characteristic of monoclonal antibodies (mAbs) is their isoelectric point (pI), which essentially is the pH at which the antibody has no net electrical charge, and its value depends on the charged amino acids the antibody contains. If the pH of the surrounding environment is below the antibody’s pI, then the molecule carries a net positive charge, whereas the antibody will carry a net negative charge when the pH is above the pI.\n",
        "\n",
        "# Reference :\n",
        "\n",
        "- [B-Cell Help](http://tools.iedb.org/bcell/help/)\n",
        "- [Importance Isoelectric Point of Antibodies](https://www.antibodysociety.org/new-articles/importance-isoelectric-point-pi-antibodies/)"
      ]
    },
    {
      "cell_type": "markdown",
      "metadata": {
        "id": "iz_oMXuRP-9i",
        "colab_type": "text"
      },
      "source": [
        "## Task : SARS prediction with B-cell data\n",
        "\n",
        "### Task Details\n",
        "\n",
        "Our purpose is estimating the epitope region of SARS-CoV by only analyzing the B-cell dataset.\n",
        "\n",
        "We are addressed the problem of classifying peptides into two categories in this task: antibodies with inducing properties (positive) and antibodies without inducing properties (negative), similar to the paper we have published.\n",
        "\n",
        "Using the data provided, predict the antibody valence of the SARS-CoV data. It has a target value, so you can experiment and train normally to develop a model.\n",
        "Evaluation\n",
        "\n",
        "    Area Under the Curve(AUC)\n",
        "        AUC of epitope prediction for SARS using the Bcell dataset as the training set and the SARS dataset as the test set.\n",
        "\n",
        "    Documentation Quality\n",
        "        Reusable and easy-to-understand code\n"
      ]
    },
    {
      "cell_type": "code",
      "metadata": {
        "id": "QTBhcSEAQ2nh",
        "colab_type": "code",
        "colab": {
          "base_uri": "https://localhost:8080/",
          "height": 226
        },
        "outputId": "1f5fccb2-54c8-4089-fc8c-07f11f75eed7"
      },
      "source": [
        "bcell.head()"
      ],
      "execution_count": 3,
      "outputs": [
        {
          "output_type": "execute_result",
          "data": {
            "text/html": [
              "<div>\n",
              "<style scoped>\n",
              "    .dataframe tbody tr th:only-of-type {\n",
              "        vertical-align: middle;\n",
              "    }\n",
              "\n",
              "    .dataframe tbody tr th {\n",
              "        vertical-align: top;\n",
              "    }\n",
              "\n",
              "    .dataframe thead th {\n",
              "        text-align: right;\n",
              "    }\n",
              "</style>\n",
              "<table border=\"1\" class=\"dataframe\">\n",
              "  <thead>\n",
              "    <tr style=\"text-align: right;\">\n",
              "      <th></th>\n",
              "      <th>parent_protein_id</th>\n",
              "      <th>protein_seq</th>\n",
              "      <th>start_position</th>\n",
              "      <th>end_position</th>\n",
              "      <th>peptide_seq</th>\n",
              "      <th>chou_fasman</th>\n",
              "      <th>emini</th>\n",
              "      <th>kolaskar_tongaonkar</th>\n",
              "      <th>parker</th>\n",
              "      <th>isoelectric_point</th>\n",
              "      <th>aromaticity</th>\n",
              "      <th>hydrophobicity</th>\n",
              "      <th>stability</th>\n",
              "      <th>target</th>\n",
              "    </tr>\n",
              "  </thead>\n",
              "  <tbody>\n",
              "    <tr>\n",
              "      <th>0</th>\n",
              "      <td>A2T3T0</td>\n",
              "      <td>MDVLYSLSKTLKDARDKIVEGTLYSNVSDLIQQFNQMIITMNGNEF...</td>\n",
              "      <td>161</td>\n",
              "      <td>165</td>\n",
              "      <td>SASFT</td>\n",
              "      <td>1.016</td>\n",
              "      <td>0.703</td>\n",
              "      <td>1.018</td>\n",
              "      <td>2.22</td>\n",
              "      <td>5.810364</td>\n",
              "      <td>0.103275</td>\n",
              "      <td>-0.143829</td>\n",
              "      <td>40.273300</td>\n",
              "      <td>1</td>\n",
              "    </tr>\n",
              "    <tr>\n",
              "      <th>1</th>\n",
              "      <td>F0V2I4</td>\n",
              "      <td>MTIHKVAINGFGRIGRLLFRNLLSSQGVQVVAVNDVVDIKVLTHLL...</td>\n",
              "      <td>251</td>\n",
              "      <td>255</td>\n",
              "      <td>LCLKI</td>\n",
              "      <td>0.770</td>\n",
              "      <td>0.179</td>\n",
              "      <td>1.199</td>\n",
              "      <td>-3.86</td>\n",
              "      <td>6.210876</td>\n",
              "      <td>0.065476</td>\n",
              "      <td>-0.036905</td>\n",
              "      <td>24.998512</td>\n",
              "      <td>1</td>\n",
              "    </tr>\n",
              "    <tr>\n",
              "      <th>2</th>\n",
              "      <td>O75508</td>\n",
              "      <td>MVATCLQVVGFVTSFVGWIGVIVTTSTNDWVVTCGYTIPTCRKLDE...</td>\n",
              "      <td>145</td>\n",
              "      <td>149</td>\n",
              "      <td>AHRET</td>\n",
              "      <td>0.852</td>\n",
              "      <td>3.427</td>\n",
              "      <td>0.960</td>\n",
              "      <td>4.28</td>\n",
              "      <td>8.223938</td>\n",
              "      <td>0.091787</td>\n",
              "      <td>0.879227</td>\n",
              "      <td>27.863333</td>\n",
              "      <td>1</td>\n",
              "    </tr>\n",
              "    <tr>\n",
              "      <th>3</th>\n",
              "      <td>O84462</td>\n",
              "      <td>MTNSISGYQPTVTTSTSSTTSASGASGSLGASSVSTTANATVTQTA...</td>\n",
              "      <td>152</td>\n",
              "      <td>156</td>\n",
              "      <td>SNYDD</td>\n",
              "      <td>1.410</td>\n",
              "      <td>2.548</td>\n",
              "      <td>0.936</td>\n",
              "      <td>6.32</td>\n",
              "      <td>4.237976</td>\n",
              "      <td>0.044776</td>\n",
              "      <td>-0.521393</td>\n",
              "      <td>30.765373</td>\n",
              "      <td>1</td>\n",
              "    </tr>\n",
              "    <tr>\n",
              "      <th>4</th>\n",
              "      <td>P00918</td>\n",
              "      <td>MSHHWGYGKHNGPEHWHKDFPIAKGERQSPVDIDTHTAKYDPSLKP...</td>\n",
              "      <td>85</td>\n",
              "      <td>89</td>\n",
              "      <td>DGTYR</td>\n",
              "      <td>1.214</td>\n",
              "      <td>1.908</td>\n",
              "      <td>0.937</td>\n",
              "      <td>4.64</td>\n",
              "      <td>6.867493</td>\n",
              "      <td>0.103846</td>\n",
              "      <td>-0.578846</td>\n",
              "      <td>21.684615</td>\n",
              "      <td>1</td>\n",
              "    </tr>\n",
              "  </tbody>\n",
              "</table>\n",
              "</div>"
            ],
            "text/plain": [
              "  parent_protein_id  ... target\n",
              "0            A2T3T0  ...      1\n",
              "1            F0V2I4  ...      1\n",
              "2            O75508  ...      1\n",
              "3            O84462  ...      1\n",
              "4            P00918  ...      1\n",
              "\n",
              "[5 rows x 14 columns]"
            ]
          },
          "metadata": {
            "tags": []
          },
          "execution_count": 3
        }
      ]
    },
    {
      "cell_type": "code",
      "metadata": {
        "id": "bEZbF1bxRnpn",
        "colab_type": "code",
        "colab": {
          "base_uri": "https://localhost:8080/",
          "height": 226
        },
        "outputId": "43e7196c-4d49-434d-db58-8ad59b34fc70"
      },
      "source": [
        "sars.head()"
      ],
      "execution_count": 4,
      "outputs": [
        {
          "output_type": "execute_result",
          "data": {
            "text/html": [
              "<div>\n",
              "<style scoped>\n",
              "    .dataframe tbody tr th:only-of-type {\n",
              "        vertical-align: middle;\n",
              "    }\n",
              "\n",
              "    .dataframe tbody tr th {\n",
              "        vertical-align: top;\n",
              "    }\n",
              "\n",
              "    .dataframe thead th {\n",
              "        text-align: right;\n",
              "    }\n",
              "</style>\n",
              "<table border=\"1\" class=\"dataframe\">\n",
              "  <thead>\n",
              "    <tr style=\"text-align: right;\">\n",
              "      <th></th>\n",
              "      <th>parent_protein_id</th>\n",
              "      <th>protein_seq</th>\n",
              "      <th>start_position</th>\n",
              "      <th>end_position</th>\n",
              "      <th>peptide_seq</th>\n",
              "      <th>chou_fasman</th>\n",
              "      <th>emini</th>\n",
              "      <th>kolaskar_tongaonkar</th>\n",
              "      <th>parker</th>\n",
              "      <th>isoelectric_point</th>\n",
              "      <th>aromaticity</th>\n",
              "      <th>hydrophobicity</th>\n",
              "      <th>stability</th>\n",
              "      <th>target</th>\n",
              "    </tr>\n",
              "  </thead>\n",
              "  <tbody>\n",
              "    <tr>\n",
              "      <th>0</th>\n",
              "      <td>AAU93319</td>\n",
              "      <td>MFIFLLFLTLTSGSDLDRCTTFDDVQAPNYTQHTSSMRGVYYPDEI...</td>\n",
              "      <td>1</td>\n",
              "      <td>17</td>\n",
              "      <td>MFIFLLFLTLTSGSDLD</td>\n",
              "      <td>0.887</td>\n",
              "      <td>0.040</td>\n",
              "      <td>1.056</td>\n",
              "      <td>-2.159</td>\n",
              "      <td>5.569763</td>\n",
              "      <td>0.116335</td>\n",
              "      <td>-0.061116</td>\n",
              "      <td>33.205116</td>\n",
              "      <td>0</td>\n",
              "    </tr>\n",
              "    <tr>\n",
              "      <th>1</th>\n",
              "      <td>AAU93319</td>\n",
              "      <td>MFIFLLFLTLTSGSDLDRCTTFDDVQAPNYTQHTSSMRGVYYPDEI...</td>\n",
              "      <td>1</td>\n",
              "      <td>15</td>\n",
              "      <td>MFIFLLFLTLTSGSD</td>\n",
              "      <td>0.869</td>\n",
              "      <td>0.047</td>\n",
              "      <td>1.056</td>\n",
              "      <td>-2.500</td>\n",
              "      <td>5.569763</td>\n",
              "      <td>0.116335</td>\n",
              "      <td>-0.061116</td>\n",
              "      <td>33.205116</td>\n",
              "      <td>0</td>\n",
              "    </tr>\n",
              "    <tr>\n",
              "      <th>2</th>\n",
              "      <td>AAU93319</td>\n",
              "      <td>MFIFLLFLTLTSGSDLDRCTTFDDVQAPNYTQHTSSMRGVYYPDEI...</td>\n",
              "      <td>2</td>\n",
              "      <td>10</td>\n",
              "      <td>FIFLLFLTL</td>\n",
              "      <td>0.621</td>\n",
              "      <td>0.042</td>\n",
              "      <td>1.148</td>\n",
              "      <td>-7.467</td>\n",
              "      <td>5.569763</td>\n",
              "      <td>0.116335</td>\n",
              "      <td>-0.061116</td>\n",
              "      <td>33.205116</td>\n",
              "      <td>0</td>\n",
              "    </tr>\n",
              "    <tr>\n",
              "      <th>3</th>\n",
              "      <td>AAU93319</td>\n",
              "      <td>MFIFLLFLTLTSGSDLDRCTTFDDVQAPNYTQHTSSMRGVYYPDEI...</td>\n",
              "      <td>6</td>\n",
              "      <td>20</td>\n",
              "      <td>LFLTLTSGSDLDRCT</td>\n",
              "      <td>1.021</td>\n",
              "      <td>0.230</td>\n",
              "      <td>1.049</td>\n",
              "      <td>0.927</td>\n",
              "      <td>5.569763</td>\n",
              "      <td>0.116335</td>\n",
              "      <td>-0.061116</td>\n",
              "      <td>33.205116</td>\n",
              "      <td>0</td>\n",
              "    </tr>\n",
              "    <tr>\n",
              "      <th>4</th>\n",
              "      <td>AAU93319</td>\n",
              "      <td>MFIFLLFLTLTSGSDLDRCTTFDDVQAPNYTQHTSSMRGVYYPDEI...</td>\n",
              "      <td>9</td>\n",
              "      <td>25</td>\n",
              "      <td>TLTSGSDLDRCTTFDDV</td>\n",
              "      <td>1.089</td>\n",
              "      <td>0.627</td>\n",
              "      <td>1.015</td>\n",
              "      <td>3.165</td>\n",
              "      <td>5.569763</td>\n",
              "      <td>0.116335</td>\n",
              "      <td>-0.061116</td>\n",
              "      <td>33.205116</td>\n",
              "      <td>0</td>\n",
              "    </tr>\n",
              "  </tbody>\n",
              "</table>\n",
              "</div>"
            ],
            "text/plain": [
              "  parent_protein_id  ... target\n",
              "0          AAU93319  ...      0\n",
              "1          AAU93319  ...      0\n",
              "2          AAU93319  ...      0\n",
              "3          AAU93319  ...      0\n",
              "4          AAU93319  ...      0\n",
              "\n",
              "[5 rows x 14 columns]"
            ]
          },
          "metadata": {
            "tags": []
          },
          "execution_count": 4
        }
      ]
    },
    {
      "cell_type": "code",
      "metadata": {
        "id": "gdP1bP6eRotB",
        "colab_type": "code",
        "colab": {
          "base_uri": "https://localhost:8080/",
          "height": 226
        },
        "outputId": "a3165391-6b01-47c7-c5c0-de0e359553d7"
      },
      "source": [
        "covid.head()"
      ],
      "execution_count": 5,
      "outputs": [
        {
          "output_type": "execute_result",
          "data": {
            "text/html": [
              "<div>\n",
              "<style scoped>\n",
              "    .dataframe tbody tr th:only-of-type {\n",
              "        vertical-align: middle;\n",
              "    }\n",
              "\n",
              "    .dataframe tbody tr th {\n",
              "        vertical-align: top;\n",
              "    }\n",
              "\n",
              "    .dataframe thead th {\n",
              "        text-align: right;\n",
              "    }\n",
              "</style>\n",
              "<table border=\"1\" class=\"dataframe\">\n",
              "  <thead>\n",
              "    <tr style=\"text-align: right;\">\n",
              "      <th></th>\n",
              "      <th>parent_protein_id</th>\n",
              "      <th>protein_seq</th>\n",
              "      <th>start_position</th>\n",
              "      <th>end_position</th>\n",
              "      <th>peptide_seq</th>\n",
              "      <th>chou_fasman</th>\n",
              "      <th>emini</th>\n",
              "      <th>kolaskar_tongaonkar</th>\n",
              "      <th>parker</th>\n",
              "      <th>isoelectric_point</th>\n",
              "      <th>aromaticity</th>\n",
              "      <th>hydrophobicity</th>\n",
              "      <th>stability</th>\n",
              "    </tr>\n",
              "  </thead>\n",
              "  <tbody>\n",
              "    <tr>\n",
              "      <th>0</th>\n",
              "      <td>6VYB_A</td>\n",
              "      <td>MGILPSPGMPALLSLVSLLSVLLMGCVAETGTQCVNLTTRTQLPPA...</td>\n",
              "      <td>1</td>\n",
              "      <td>5</td>\n",
              "      <td>MGILP</td>\n",
              "      <td>0.948</td>\n",
              "      <td>0.280</td>\n",
              "      <td>1.033</td>\n",
              "      <td>-2.72</td>\n",
              "      <td>6.03595</td>\n",
              "      <td>0.10929</td>\n",
              "      <td>-0.138642</td>\n",
              "      <td>31.377603</td>\n",
              "    </tr>\n",
              "    <tr>\n",
              "      <th>1</th>\n",
              "      <td>6VYB_A</td>\n",
              "      <td>MGILPSPGMPALLSLVSLLSVLLMGCVAETGTQCVNLTTRTQLPPA...</td>\n",
              "      <td>2</td>\n",
              "      <td>6</td>\n",
              "      <td>GILPS</td>\n",
              "      <td>1.114</td>\n",
              "      <td>0.379</td>\n",
              "      <td>1.070</td>\n",
              "      <td>-0.58</td>\n",
              "      <td>6.03595</td>\n",
              "      <td>0.10929</td>\n",
              "      <td>-0.138642</td>\n",
              "      <td>31.377603</td>\n",
              "    </tr>\n",
              "    <tr>\n",
              "      <th>2</th>\n",
              "      <td>6VYB_A</td>\n",
              "      <td>MGILPSPGMPALLSLVSLLSVLLMGCVAETGTQCVNLTTRTQLPPA...</td>\n",
              "      <td>3</td>\n",
              "      <td>7</td>\n",
              "      <td>ILPSP</td>\n",
              "      <td>1.106</td>\n",
              "      <td>0.592</td>\n",
              "      <td>1.108</td>\n",
              "      <td>-1.30</td>\n",
              "      <td>6.03595</td>\n",
              "      <td>0.10929</td>\n",
              "      <td>-0.138642</td>\n",
              "      <td>31.377603</td>\n",
              "    </tr>\n",
              "    <tr>\n",
              "      <th>3</th>\n",
              "      <td>6VYB_A</td>\n",
              "      <td>MGILPSPGMPALLSLVSLLSVLLMGCVAETGTQCVNLTTRTQLPPA...</td>\n",
              "      <td>4</td>\n",
              "      <td>8</td>\n",
              "      <td>LPSPG</td>\n",
              "      <td>1.324</td>\n",
              "      <td>0.836</td>\n",
              "      <td>1.053</td>\n",
              "      <td>1.44</td>\n",
              "      <td>6.03595</td>\n",
              "      <td>0.10929</td>\n",
              "      <td>-0.138642</td>\n",
              "      <td>31.377603</td>\n",
              "    </tr>\n",
              "    <tr>\n",
              "      <th>4</th>\n",
              "      <td>6VYB_A</td>\n",
              "      <td>MGILPSPGMPALLSLVSLLSVLLMGCVAETGTQCVNLTTRTQLPPA...</td>\n",
              "      <td>5</td>\n",
              "      <td>9</td>\n",
              "      <td>PSPGM</td>\n",
              "      <td>1.326</td>\n",
              "      <td>1.004</td>\n",
              "      <td>0.968</td>\n",
              "      <td>2.44</td>\n",
              "      <td>6.03595</td>\n",
              "      <td>0.10929</td>\n",
              "      <td>-0.138642</td>\n",
              "      <td>31.377603</td>\n",
              "    </tr>\n",
              "  </tbody>\n",
              "</table>\n",
              "</div>"
            ],
            "text/plain": [
              "  parent_protein_id  ...  stability\n",
              "0            6VYB_A  ...  31.377603\n",
              "1            6VYB_A  ...  31.377603\n",
              "2            6VYB_A  ...  31.377603\n",
              "3            6VYB_A  ...  31.377603\n",
              "4            6VYB_A  ...  31.377603\n",
              "\n",
              "[5 rows x 13 columns]"
            ]
          },
          "metadata": {
            "tags": []
          },
          "execution_count": 5
        }
      ]
    },
    {
      "cell_type": "code",
      "metadata": {
        "id": "HO8s_d74aQY0",
        "colab_type": "code",
        "colab": {
          "base_uri": "https://localhost:8080/",
          "height": 72
        },
        "outputId": "20593104-9b28-443f-dd73-a0033ea842c1"
      },
      "source": [
        "print(\"Shape of SARS : \", sars.shape)\n",
        "print(\"Shape of B-Cell : \", bcell.shape)\n",
        "print(\"Shape of COVID : \", covid.shape)"
      ],
      "execution_count": 6,
      "outputs": [
        {
          "output_type": "stream",
          "text": [
            "Shape of SARS :  (520, 14)\n",
            "Shape of B-Cell :  (14387, 14)\n",
            "Shape of COVID :  (20312, 13)\n"
          ],
          "name": "stdout"
        }
      ]
    },
    {
      "cell_type": "markdown",
      "metadata": {
        "id": "YxIN6iWtesPF",
        "colab_type": "text"
      },
      "source": [
        "As we are going to train the data of SARS and B-Cell, we will combine the data of both as one and put them into a model to interprete in the training data(COVID data)."
      ]
    },
    {
      "cell_type": "code",
      "metadata": {
        "id": "5sDrnCtrUqxW",
        "colab_type": "code",
        "colab": {}
      },
      "source": [
        "# Combining two columns with same column name\n",
        "bcell_sars = bcell.append(sars, ignore_index=True)"
      ],
      "execution_count": 7,
      "outputs": []
    },
    {
      "cell_type": "code",
      "metadata": {
        "id": "rjsKpl1oDOTU",
        "colab_type": "code",
        "colab": {
          "base_uri": "https://localhost:8080/",
          "height": 35
        },
        "outputId": "c7c5b70f-c6c0-4665-ea46-176cb307e1f9"
      },
      "source": [
        "bcell_sars.shape"
      ],
      "execution_count": 8,
      "outputs": [
        {
          "output_type": "execute_result",
          "data": {
            "text/plain": [
              "(14907, 14)"
            ]
          },
          "metadata": {
            "tags": []
          },
          "execution_count": 8
        }
      ]
    },
    {
      "cell_type": "code",
      "metadata": {
        "id": "V6lGLdXKZ3w4",
        "colab_type": "code",
        "colab": {
          "base_uri": "https://localhost:8080/",
          "height": 697
        },
        "outputId": "d3b3bfca-86d1-40de-d8ed-bb0803e68198"
      },
      "source": [
        "bcell_sars.head(20)"
      ],
      "execution_count": 9,
      "outputs": [
        {
          "output_type": "execute_result",
          "data": {
            "text/html": [
              "<div>\n",
              "<style scoped>\n",
              "    .dataframe tbody tr th:only-of-type {\n",
              "        vertical-align: middle;\n",
              "    }\n",
              "\n",
              "    .dataframe tbody tr th {\n",
              "        vertical-align: top;\n",
              "    }\n",
              "\n",
              "    .dataframe thead th {\n",
              "        text-align: right;\n",
              "    }\n",
              "</style>\n",
              "<table border=\"1\" class=\"dataframe\">\n",
              "  <thead>\n",
              "    <tr style=\"text-align: right;\">\n",
              "      <th></th>\n",
              "      <th>parent_protein_id</th>\n",
              "      <th>protein_seq</th>\n",
              "      <th>start_position</th>\n",
              "      <th>end_position</th>\n",
              "      <th>peptide_seq</th>\n",
              "      <th>chou_fasman</th>\n",
              "      <th>emini</th>\n",
              "      <th>kolaskar_tongaonkar</th>\n",
              "      <th>parker</th>\n",
              "      <th>isoelectric_point</th>\n",
              "      <th>aromaticity</th>\n",
              "      <th>hydrophobicity</th>\n",
              "      <th>stability</th>\n",
              "      <th>target</th>\n",
              "    </tr>\n",
              "  </thead>\n",
              "  <tbody>\n",
              "    <tr>\n",
              "      <th>0</th>\n",
              "      <td>A2T3T0</td>\n",
              "      <td>MDVLYSLSKTLKDARDKIVEGTLYSNVSDLIQQFNQMIITMNGNEF...</td>\n",
              "      <td>161</td>\n",
              "      <td>165</td>\n",
              "      <td>SASFT</td>\n",
              "      <td>1.016</td>\n",
              "      <td>0.703</td>\n",
              "      <td>1.018</td>\n",
              "      <td>2.22</td>\n",
              "      <td>5.810364</td>\n",
              "      <td>0.103275</td>\n",
              "      <td>-0.143829</td>\n",
              "      <td>40.273300</td>\n",
              "      <td>1</td>\n",
              "    </tr>\n",
              "    <tr>\n",
              "      <th>1</th>\n",
              "      <td>F0V2I4</td>\n",
              "      <td>MTIHKVAINGFGRIGRLLFRNLLSSQGVQVVAVNDVVDIKVLTHLL...</td>\n",
              "      <td>251</td>\n",
              "      <td>255</td>\n",
              "      <td>LCLKI</td>\n",
              "      <td>0.770</td>\n",
              "      <td>0.179</td>\n",
              "      <td>1.199</td>\n",
              "      <td>-3.86</td>\n",
              "      <td>6.210876</td>\n",
              "      <td>0.065476</td>\n",
              "      <td>-0.036905</td>\n",
              "      <td>24.998512</td>\n",
              "      <td>1</td>\n",
              "    </tr>\n",
              "    <tr>\n",
              "      <th>2</th>\n",
              "      <td>O75508</td>\n",
              "      <td>MVATCLQVVGFVTSFVGWIGVIVTTSTNDWVVTCGYTIPTCRKLDE...</td>\n",
              "      <td>145</td>\n",
              "      <td>149</td>\n",
              "      <td>AHRET</td>\n",
              "      <td>0.852</td>\n",
              "      <td>3.427</td>\n",
              "      <td>0.960</td>\n",
              "      <td>4.28</td>\n",
              "      <td>8.223938</td>\n",
              "      <td>0.091787</td>\n",
              "      <td>0.879227</td>\n",
              "      <td>27.863333</td>\n",
              "      <td>1</td>\n",
              "    </tr>\n",
              "    <tr>\n",
              "      <th>3</th>\n",
              "      <td>O84462</td>\n",
              "      <td>MTNSISGYQPTVTTSTSSTTSASGASGSLGASSVSTTANATVTQTA...</td>\n",
              "      <td>152</td>\n",
              "      <td>156</td>\n",
              "      <td>SNYDD</td>\n",
              "      <td>1.410</td>\n",
              "      <td>2.548</td>\n",
              "      <td>0.936</td>\n",
              "      <td>6.32</td>\n",
              "      <td>4.237976</td>\n",
              "      <td>0.044776</td>\n",
              "      <td>-0.521393</td>\n",
              "      <td>30.765373</td>\n",
              "      <td>1</td>\n",
              "    </tr>\n",
              "    <tr>\n",
              "      <th>4</th>\n",
              "      <td>P00918</td>\n",
              "      <td>MSHHWGYGKHNGPEHWHKDFPIAKGERQSPVDIDTHTAKYDPSLKP...</td>\n",
              "      <td>85</td>\n",
              "      <td>89</td>\n",
              "      <td>DGTYR</td>\n",
              "      <td>1.214</td>\n",
              "      <td>1.908</td>\n",
              "      <td>0.937</td>\n",
              "      <td>4.64</td>\n",
              "      <td>6.867493</td>\n",
              "      <td>0.103846</td>\n",
              "      <td>-0.578846</td>\n",
              "      <td>21.684615</td>\n",
              "      <td>1</td>\n",
              "    </tr>\n",
              "    <tr>\n",
              "      <th>5</th>\n",
              "      <td>P00918</td>\n",
              "      <td>MSHHWGYGKHNGPEHWHKDFPIAKGERQSPVDIDTHTAKYDPSLKP...</td>\n",
              "      <td>155</td>\n",
              "      <td>159</td>\n",
              "      <td>GLQKV</td>\n",
              "      <td>0.928</td>\n",
              "      <td>0.547</td>\n",
              "      <td>1.090</td>\n",
              "      <td>0.90</td>\n",
              "      <td>6.867493</td>\n",
              "      <td>0.103846</td>\n",
              "      <td>-0.578846</td>\n",
              "      <td>21.684615</td>\n",
              "      <td>1</td>\n",
              "    </tr>\n",
              "    <tr>\n",
              "      <th>6</th>\n",
              "      <td>P00918</td>\n",
              "      <td>MSHHWGYGKHNGPEHWHKDFPIAKGERQSPVDIDTHTAKYDPSLKP...</td>\n",
              "      <td>22</td>\n",
              "      <td>26</td>\n",
              "      <td>IAKGE</td>\n",
              "      <td>0.888</td>\n",
              "      <td>0.633</td>\n",
              "      <td>0.974</td>\n",
              "      <td>2.66</td>\n",
              "      <td>6.867493</td>\n",
              "      <td>0.103846</td>\n",
              "      <td>-0.578846</td>\n",
              "      <td>21.684615</td>\n",
              "      <td>1</td>\n",
              "    </tr>\n",
              "    <tr>\n",
              "      <th>7</th>\n",
              "      <td>P00918</td>\n",
              "      <td>MSHHWGYGKHNGPEHWHKDFPIAKGERQSPVDIDTHTAKYDPSLKP...</td>\n",
              "      <td>253</td>\n",
              "      <td>257</td>\n",
              "      <td>RQIKA</td>\n",
              "      <td>0.814</td>\n",
              "      <td>1.252</td>\n",
              "      <td>1.007</td>\n",
              "      <td>2.00</td>\n",
              "      <td>6.867493</td>\n",
              "      <td>0.103846</td>\n",
              "      <td>-0.578846</td>\n",
              "      <td>21.684615</td>\n",
              "      <td>1</td>\n",
              "    </tr>\n",
              "    <tr>\n",
              "      <th>8</th>\n",
              "      <td>P00918</td>\n",
              "      <td>MSHHWGYGKHNGPEHWHKDFPIAKGERQSPVDIDTHTAKYDPSLKP...</td>\n",
              "      <td>218</td>\n",
              "      <td>222</td>\n",
              "      <td>SSEQV</td>\n",
              "      <td>1.016</td>\n",
              "      <td>1.042</td>\n",
              "      <td>1.055</td>\n",
              "      <td>4.62</td>\n",
              "      <td>6.867493</td>\n",
              "      <td>0.103846</td>\n",
              "      <td>-0.578846</td>\n",
              "      <td>21.684615</td>\n",
              "      <td>1</td>\n",
              "    </tr>\n",
              "    <tr>\n",
              "      <th>9</th>\n",
              "      <td>P01012</td>\n",
              "      <td>MGSIGAASMEFCFDVFKELKVHHANENIFYCPIAIMSALAMVYLGA...</td>\n",
              "      <td>261</td>\n",
              "      <td>265</td>\n",
              "      <td>NFEKL</td>\n",
              "      <td>0.900</td>\n",
              "      <td>1.301</td>\n",
              "      <td>0.980</td>\n",
              "      <td>0.42</td>\n",
              "      <td>5.193909</td>\n",
              "      <td>0.085492</td>\n",
              "      <td>-0.001036</td>\n",
              "      <td>37.108575</td>\n",
              "      <td>1</td>\n",
              "    </tr>\n",
              "    <tr>\n",
              "      <th>10</th>\n",
              "      <td>P01135</td>\n",
              "      <td>MVPSAGQLALFALGIVLAACQALENSTSPLSADPPVAAAVVSHFND...</td>\n",
              "      <td>42</td>\n",
              "      <td>46</td>\n",
              "      <td>SHFND</td>\n",
              "      <td>1.200</td>\n",
              "      <td>1.832</td>\n",
              "      <td>0.970</td>\n",
              "      <td>3.28</td>\n",
              "      <td>7.513855</td>\n",
              "      <td>0.043750</td>\n",
              "      <td>0.551250</td>\n",
              "      <td>28.636875</td>\n",
              "      <td>1</td>\n",
              "    </tr>\n",
              "    <tr>\n",
              "      <th>11</th>\n",
              "      <td>P01519</td>\n",
              "      <td>ECCNPACGRHYSCGK</td>\n",
              "      <td>3</td>\n",
              "      <td>7</td>\n",
              "      <td>CNPAC</td>\n",
              "      <td>1.224</td>\n",
              "      <td>0.368</td>\n",
              "      <td>1.146</td>\n",
              "      <td>2.80</td>\n",
              "      <td>7.969910</td>\n",
              "      <td>0.066667</td>\n",
              "      <td>-0.753333</td>\n",
              "      <td>137.046667</td>\n",
              "      <td>1</td>\n",
              "    </tr>\n",
              "    <tr>\n",
              "      <th>12</th>\n",
              "      <td>P01519</td>\n",
              "      <td>ECCNPACGRHYSCGK</td>\n",
              "      <td>5</td>\n",
              "      <td>9</td>\n",
              "      <td>PACGR</td>\n",
              "      <td>1.176</td>\n",
              "      <td>0.828</td>\n",
              "      <td>1.057</td>\n",
              "      <td>3.10</td>\n",
              "      <td>7.969910</td>\n",
              "      <td>0.066667</td>\n",
              "      <td>-0.753333</td>\n",
              "      <td>137.046667</td>\n",
              "      <td>0</td>\n",
              "    </tr>\n",
              "    <tr>\n",
              "      <th>13</th>\n",
              "      <td>P01519</td>\n",
              "      <td>ECCNPACGRHYSCGK</td>\n",
              "      <td>9</td>\n",
              "      <td>13</td>\n",
              "      <td>RHYSC</td>\n",
              "      <td>1.132</td>\n",
              "      <td>1.530</td>\n",
              "      <td>1.113</td>\n",
              "      <td>2.46</td>\n",
              "      <td>7.969910</td>\n",
              "      <td>0.066667</td>\n",
              "      <td>-0.753333</td>\n",
              "      <td>137.046667</td>\n",
              "      <td>0</td>\n",
              "    </tr>\n",
              "    <tr>\n",
              "      <th>14</th>\n",
              "      <td>P01520</td>\n",
              "      <td>ECCHPACGKHFSC</td>\n",
              "      <td>2</td>\n",
              "      <td>6</td>\n",
              "      <td>CCHPA</td>\n",
              "      <td>1.102</td>\n",
              "      <td>0.437</td>\n",
              "      <td>1.211</td>\n",
              "      <td>1.82</td>\n",
              "      <td>6.962585</td>\n",
              "      <td>0.076923</td>\n",
              "      <td>-0.153846</td>\n",
              "      <td>125.076923</td>\n",
              "      <td>0</td>\n",
              "    </tr>\n",
              "    <tr>\n",
              "      <th>15</th>\n",
              "      <td>P02229</td>\n",
              "      <td>MKFLILALCFAAASALSADQISTVQASFDKVKGDPVGILYAVFKAD...</td>\n",
              "      <td>28</td>\n",
              "      <td>32</td>\n",
              "      <td>FDKVK</td>\n",
              "      <td>0.916</td>\n",
              "      <td>1.757</td>\n",
              "      <td>1.040</td>\n",
              "      <td>1.70</td>\n",
              "      <td>6.899475</td>\n",
              "      <td>0.125828</td>\n",
              "      <td>0.256291</td>\n",
              "      <td>20.358278</td>\n",
              "      <td>1</td>\n",
              "    </tr>\n",
              "    <tr>\n",
              "      <th>16</th>\n",
              "      <td>P02710</td>\n",
              "      <td>MILCSYWHVGLVLLLFSCCGLVLGSEHETRLVANLLENYNKVIRPV...</td>\n",
              "      <td>105</td>\n",
              "      <td>109</td>\n",
              "      <td>PSDDV</td>\n",
              "      <td>1.274</td>\n",
              "      <td>1.503</td>\n",
              "      <td>1.038</td>\n",
              "      <td>4.98</td>\n",
              "      <td>5.606750</td>\n",
              "      <td>0.108460</td>\n",
              "      <td>0.280694</td>\n",
              "      <td>29.829957</td>\n",
              "      <td>1</td>\n",
              "    </tr>\n",
              "    <tr>\n",
              "      <th>17</th>\n",
              "      <td>P02710</td>\n",
              "      <td>MILCSYWHVGLVLLLFSCCGLVLGSEHETRLVANLLENYNKVIRPV...</td>\n",
              "      <td>91</td>\n",
              "      <td>95</td>\n",
              "      <td>WNPAD</td>\n",
              "      <td>1.232</td>\n",
              "      <td>1.546</td>\n",
              "      <td>0.933</td>\n",
              "      <td>2.24</td>\n",
              "      <td>5.606750</td>\n",
              "      <td>0.108460</td>\n",
              "      <td>0.280694</td>\n",
              "      <td>29.829957</td>\n",
              "      <td>1</td>\n",
              "    </tr>\n",
              "    <tr>\n",
              "      <th>18</th>\n",
              "      <td>P02730</td>\n",
              "      <td>MEELQDDYEDMMEENLEQEEYEDPDIPESQMEEPAAHDTEATATDY...</td>\n",
              "      <td>850</td>\n",
              "      <td>854</td>\n",
              "      <td>VKSTP</td>\n",
              "      <td>1.084</td>\n",
              "      <td>1.429</td>\n",
              "      <td>1.060</td>\n",
              "      <td>3.16</td>\n",
              "      <td>5.075623</td>\n",
              "      <td>0.097695</td>\n",
              "      <td>0.213282</td>\n",
              "      <td>48.224270</td>\n",
              "      <td>1</td>\n",
              "    </tr>\n",
              "    <tr>\n",
              "      <th>19</th>\n",
              "      <td>P02820</td>\n",
              "      <td>MRTPMLLALLALATLCLAGRADAKPGDAESGKGAAFVSKQEGSEVV...</td>\n",
              "      <td>96</td>\n",
              "      <td>100</td>\n",
              "      <td>FYGPV</td>\n",
              "      <td>1.064</td>\n",
              "      <td>0.407</td>\n",
              "      <td>1.115</td>\n",
              "      <td>-1.40</td>\n",
              "      <td>5.639099</td>\n",
              "      <td>0.080000</td>\n",
              "      <td>-0.344000</td>\n",
              "      <td>50.452100</td>\n",
              "      <td>0</td>\n",
              "    </tr>\n",
              "  </tbody>\n",
              "</table>\n",
              "</div>"
            ],
            "text/plain": [
              "   parent_protein_id  ... target\n",
              "0             A2T3T0  ...      1\n",
              "1             F0V2I4  ...      1\n",
              "2             O75508  ...      1\n",
              "3             O84462  ...      1\n",
              "4             P00918  ...      1\n",
              "5             P00918  ...      1\n",
              "6             P00918  ...      1\n",
              "7             P00918  ...      1\n",
              "8             P00918  ...      1\n",
              "9             P01012  ...      1\n",
              "10            P01135  ...      1\n",
              "11            P01519  ...      1\n",
              "12            P01519  ...      0\n",
              "13            P01519  ...      0\n",
              "14            P01520  ...      0\n",
              "15            P02229  ...      1\n",
              "16            P02710  ...      1\n",
              "17            P02710  ...      1\n",
              "18            P02730  ...      1\n",
              "19            P02820  ...      0\n",
              "\n",
              "[20 rows x 14 columns]"
            ]
          },
          "metadata": {
            "tags": []
          },
          "execution_count": 9
        }
      ]
    },
    {
      "cell_type": "code",
      "metadata": {
        "id": "8aBStoU5ETuG",
        "colab_type": "code",
        "colab": {
          "base_uri": "https://localhost:8080/",
          "height": 320
        },
        "outputId": "6a9ec79e-833e-4777-9946-a4561896b86e"
      },
      "source": [
        "bcell_sars.describe()"
      ],
      "execution_count": 10,
      "outputs": [
        {
          "output_type": "execute_result",
          "data": {
            "text/html": [
              "<div>\n",
              "<style scoped>\n",
              "    .dataframe tbody tr th:only-of-type {\n",
              "        vertical-align: middle;\n",
              "    }\n",
              "\n",
              "    .dataframe tbody tr th {\n",
              "        vertical-align: top;\n",
              "    }\n",
              "\n",
              "    .dataframe thead th {\n",
              "        text-align: right;\n",
              "    }\n",
              "</style>\n",
              "<table border=\"1\" class=\"dataframe\">\n",
              "  <thead>\n",
              "    <tr style=\"text-align: right;\">\n",
              "      <th></th>\n",
              "      <th>start_position</th>\n",
              "      <th>end_position</th>\n",
              "      <th>chou_fasman</th>\n",
              "      <th>emini</th>\n",
              "      <th>kolaskar_tongaonkar</th>\n",
              "      <th>parker</th>\n",
              "      <th>isoelectric_point</th>\n",
              "      <th>aromaticity</th>\n",
              "      <th>hydrophobicity</th>\n",
              "      <th>stability</th>\n",
              "      <th>target</th>\n",
              "    </tr>\n",
              "  </thead>\n",
              "  <tbody>\n",
              "    <tr>\n",
              "      <th>count</th>\n",
              "      <td>14907.000000</td>\n",
              "      <td>14907.000000</td>\n",
              "      <td>14907.000000</td>\n",
              "      <td>14907.000000</td>\n",
              "      <td>14907.000000</td>\n",
              "      <td>14907.000000</td>\n",
              "      <td>14907.000000</td>\n",
              "      <td>14907.000000</td>\n",
              "      <td>14907.000000</td>\n",
              "      <td>14907.000000</td>\n",
              "      <td>14907.000000</td>\n",
              "    </tr>\n",
              "    <tr>\n",
              "      <th>mean</th>\n",
              "      <td>308.845173</td>\n",
              "      <td>319.519420</td>\n",
              "      <td>0.994906</td>\n",
              "      <td>1.082811</td>\n",
              "      <td>1.021808</td>\n",
              "      <td>1.750098</td>\n",
              "      <td>7.015227</td>\n",
              "      <td>0.077143</td>\n",
              "      <td>-0.394063</td>\n",
              "      <td>43.337674</td>\n",
              "      <td>0.271148</td>\n",
              "    </tr>\n",
              "    <tr>\n",
              "      <th>std</th>\n",
              "      <td>358.433563</td>\n",
              "      <td>358.647859</td>\n",
              "      <td>0.123656</td>\n",
              "      <td>1.826098</td>\n",
              "      <td>0.053430</td>\n",
              "      <td>1.954424</td>\n",
              "      <td>1.875713</td>\n",
              "      <td>0.026388</td>\n",
              "      <td>0.392808</td>\n",
              "      <td>16.501627</td>\n",
              "      <td>0.444567</td>\n",
              "    </tr>\n",
              "    <tr>\n",
              "      <th>min</th>\n",
              "      <td>1.000000</td>\n",
              "      <td>6.000000</td>\n",
              "      <td>0.534000</td>\n",
              "      <td>0.000000</td>\n",
              "      <td>0.838000</td>\n",
              "      <td>-9.029000</td>\n",
              "      <td>3.686096</td>\n",
              "      <td>0.000000</td>\n",
              "      <td>-1.971171</td>\n",
              "      <td>5.448936</td>\n",
              "      <td>0.000000</td>\n",
              "    </tr>\n",
              "    <tr>\n",
              "      <th>25%</th>\n",
              "      <td>86.000000</td>\n",
              "      <td>96.000000</td>\n",
              "      <td>0.913000</td>\n",
              "      <td>0.244000</td>\n",
              "      <td>0.987000</td>\n",
              "      <td>0.600000</td>\n",
              "      <td>5.569763</td>\n",
              "      <td>0.062500</td>\n",
              "      <td>-0.600131</td>\n",
              "      <td>31.725753</td>\n",
              "      <td>0.000000</td>\n",
              "    </tr>\n",
              "    <tr>\n",
              "      <th>50%</th>\n",
              "      <td>197.000000</td>\n",
              "      <td>208.000000</td>\n",
              "      <td>0.991000</td>\n",
              "      <td>0.551000</td>\n",
              "      <td>1.021000</td>\n",
              "      <td>1.775000</td>\n",
              "      <td>6.447815</td>\n",
              "      <td>0.075949</td>\n",
              "      <td>-0.318259</td>\n",
              "      <td>41.948275</td>\n",
              "      <td>0.000000</td>\n",
              "    </tr>\n",
              "    <tr>\n",
              "      <th>75%</th>\n",
              "      <td>400.000000</td>\n",
              "      <td>411.000000</td>\n",
              "      <td>1.073000</td>\n",
              "      <td>1.208500</td>\n",
              "      <td>1.055000</td>\n",
              "      <td>2.960000</td>\n",
              "      <td>8.676575</td>\n",
              "      <td>0.093458</td>\n",
              "      <td>-0.189591</td>\n",
              "      <td>49.101172</td>\n",
              "      <td>1.000000</td>\n",
              "    </tr>\n",
              "    <tr>\n",
              "      <th>max</th>\n",
              "      <td>3079.000000</td>\n",
              "      <td>3086.000000</td>\n",
              "      <td>1.546000</td>\n",
              "      <td>40.605000</td>\n",
              "      <td>1.255000</td>\n",
              "      <td>9.120000</td>\n",
              "      <td>12.232727</td>\n",
              "      <td>0.182254</td>\n",
              "      <td>1.267089</td>\n",
              "      <td>137.046667</td>\n",
              "      <td>1.000000</td>\n",
              "    </tr>\n",
              "  </tbody>\n",
              "</table>\n",
              "</div>"
            ],
            "text/plain": [
              "       start_position  end_position  ...     stability        target\n",
              "count    14907.000000  14907.000000  ...  14907.000000  14907.000000\n",
              "mean       308.845173    319.519420  ...     43.337674      0.271148\n",
              "std        358.433563    358.647859  ...     16.501627      0.444567\n",
              "min          1.000000      6.000000  ...      5.448936      0.000000\n",
              "25%         86.000000     96.000000  ...     31.725753      0.000000\n",
              "50%        197.000000    208.000000  ...     41.948275      0.000000\n",
              "75%        400.000000    411.000000  ...     49.101172      1.000000\n",
              "max       3079.000000   3086.000000  ...    137.046667      1.000000\n",
              "\n",
              "[8 rows x 11 columns]"
            ]
          },
          "metadata": {
            "tags": []
          },
          "execution_count": 10
        }
      ]
    },
    {
      "cell_type": "code",
      "metadata": {
        "id": "Lr6LBh5zcdks",
        "colab_type": "code",
        "colab": {
          "base_uri": "https://localhost:8080/",
          "height": 403
        },
        "outputId": "c59d0401-5dad-4a0e-a92d-074873276aae"
      },
      "source": [
        "bcell_sars.info(verbose=True, memory_usage='deep')"
      ],
      "execution_count": 11,
      "outputs": [
        {
          "output_type": "stream",
          "text": [
            "<class 'pandas.core.frame.DataFrame'>\n",
            "RangeIndex: 14907 entries, 0 to 14906\n",
            "Data columns (total 14 columns):\n",
            " #   Column               Non-Null Count  Dtype  \n",
            "---  ------               --------------  -----  \n",
            " 0   parent_protein_id    14907 non-null  object \n",
            " 1   protein_seq          14907 non-null  object \n",
            " 2   start_position       14907 non-null  int64  \n",
            " 3   end_position         14907 non-null  int64  \n",
            " 4   peptide_seq          14907 non-null  object \n",
            " 5   chou_fasman          14907 non-null  float64\n",
            " 6   emini                14907 non-null  float64\n",
            " 7   kolaskar_tongaonkar  14907 non-null  float64\n",
            " 8   parker               14907 non-null  float64\n",
            " 9   isoelectric_point    14907 non-null  float64\n",
            " 10  aromaticity          14907 non-null  float64\n",
            " 11  hydrophobicity       14907 non-null  float64\n",
            " 12  stability            14907 non-null  float64\n",
            " 13  target               14907 non-null  int64  \n",
            "dtypes: float64(8), int64(3), object(3)\n",
            "memory usage: 12.7 MB\n"
          ],
          "name": "stdout"
        }
      ]
    },
    {
      "cell_type": "code",
      "metadata": {
        "id": "GC3sepZ5lTTN",
        "colab_type": "code",
        "colab": {
          "base_uri": "https://localhost:8080/",
          "height": 69
        },
        "outputId": "3358f923-5ce1-451f-91f6-72140043751f"
      },
      "source": [
        "bcell_sars[bcell_sars.isna().any(axis=1)]"
      ],
      "execution_count": 12,
      "outputs": [
        {
          "output_type": "execute_result",
          "data": {
            "text/html": [
              "<div>\n",
              "<style scoped>\n",
              "    .dataframe tbody tr th:only-of-type {\n",
              "        vertical-align: middle;\n",
              "    }\n",
              "\n",
              "    .dataframe tbody tr th {\n",
              "        vertical-align: top;\n",
              "    }\n",
              "\n",
              "    .dataframe thead th {\n",
              "        text-align: right;\n",
              "    }\n",
              "</style>\n",
              "<table border=\"1\" class=\"dataframe\">\n",
              "  <thead>\n",
              "    <tr style=\"text-align: right;\">\n",
              "      <th></th>\n",
              "      <th>parent_protein_id</th>\n",
              "      <th>protein_seq</th>\n",
              "      <th>start_position</th>\n",
              "      <th>end_position</th>\n",
              "      <th>peptide_seq</th>\n",
              "      <th>chou_fasman</th>\n",
              "      <th>emini</th>\n",
              "      <th>kolaskar_tongaonkar</th>\n",
              "      <th>parker</th>\n",
              "      <th>isoelectric_point</th>\n",
              "      <th>aromaticity</th>\n",
              "      <th>hydrophobicity</th>\n",
              "      <th>stability</th>\n",
              "      <th>target</th>\n",
              "    </tr>\n",
              "  </thead>\n",
              "  <tbody>\n",
              "  </tbody>\n",
              "</table>\n",
              "</div>"
            ],
            "text/plain": [
              "Empty DataFrame\n",
              "Columns: [parent_protein_id, protein_seq, start_position, end_position, peptide_seq, chou_fasman, emini, kolaskar_tongaonkar, parker, isoelectric_point, aromaticity, hydrophobicity, stability, target]\n",
              "Index: []"
            ]
          },
          "metadata": {
            "tags": []
          },
          "execution_count": 12
        }
      ]
    },
    {
      "cell_type": "markdown",
      "metadata": {
        "id": "XfCjaRn5eDTY",
        "colab_type": "text"
      },
      "source": [
        "As there are no data missing, we can proceed without data cleaning process."
      ]
    },
    {
      "cell_type": "code",
      "metadata": {
        "id": "cWeve5zXBcBD",
        "colab_type": "code",
        "colab": {
          "base_uri": "https://localhost:8080/",
          "height": 109
        },
        "outputId": "d0355937-6304-4958-b3c4-1d5d02ba9e5b"
      },
      "source": [
        "bcell_sars.columns"
      ],
      "execution_count": 13,
      "outputs": [
        {
          "output_type": "execute_result",
          "data": {
            "text/plain": [
              "Index(['parent_protein_id', 'protein_seq', 'start_position', 'end_position',\n",
              "       'peptide_seq', 'chou_fasman', 'emini', 'kolaskar_tongaonkar', 'parker',\n",
              "       'isoelectric_point', 'aromaticity', 'hydrophobicity', 'stability',\n",
              "       'target'],\n",
              "      dtype='object')"
            ]
          },
          "metadata": {
            "tags": []
          },
          "execution_count": 13
        }
      ]
    },
    {
      "cell_type": "code",
      "metadata": {
        "id": "m5c3Qh0mEtv_",
        "colab_type": "code",
        "colab": {}
      },
      "source": [
        "features = ['chou_fasman', 'emini', 'kolaskar_tongaonkar', 'parker',\n",
        "       'isoelectric_point', 'aromaticity', 'hydrophobicity', 'stability']\n",
        "labels = ['target']"
      ],
      "execution_count": 14,
      "outputs": []
    },
    {
      "cell_type": "code",
      "metadata": {
        "id": "kIRsNK9_fect",
        "colab_type": "code",
        "colab": {
          "base_uri": "https://localhost:8080/",
          "height": 522
        },
        "outputId": "1dbb1814-fe83-4daf-ee2d-7c7060ba71d4"
      },
      "source": [
        "corr = bcell_sars[features].corr()\n",
        "\n",
        "fig = plt.figure(figsize=(12,7))\n",
        "sns.heatmap(corr,\n",
        "            annot=True,\n",
        "            square=True,\n",
        "            mask = np.tril(corr))\n",
        "plt.show()"
      ],
      "execution_count": 15,
      "outputs": [
        {
          "output_type": "display_data",
          "data": {
            "image/png": "[encoded data removed]",
            "text/plain": [
              "<Figure size 864x504 with 2 Axes>"
            ]
          },
          "metadata": {
            "tags": [],
            "needs_background": "light"
          }
        }
      ]
    },
    {
      "cell_type": "code",
      "metadata": {
        "id": "mva2hDYEk__W",
        "colab_type": "code",
        "colab": {
          "base_uri": "https://localhost:8080/",
          "height": 966
        },
        "outputId": "b8c579d1-bcb3-4ca2-89d2-32e9fc8430fe"
      },
      "source": [
        "sns.pairplot(corr)"
      ],
      "execution_count": 16,
      "outputs": [
        {
          "output_type": "execute_result",
          "data": {
            "text/plain": [
              "<seaborn.axisgrid.PairGrid at 0x7f44e09c0c88>"
            ]
          },
          "metadata": {
            "tags": []
          },
          "execution_count": 16
        },
        {
          "output_type": "display_data",
          "data": {
            "image/png": "[encoded data removed]",
            "text/plain": [
              "<Figure size 1440x1440 with 72 Axes>"
            ]
          },
          "metadata": {
            "tags": [],
            "needs_background": "light"
          }
        }
      ]
    },
    {
      "cell_type": "markdown",
      "metadata": {
        "id": "UBdcE871A-Lz",
        "colab_type": "text"
      },
      "source": [
        "### Machine Learning Models"
      ]
    },
    {
      "cell_type": "code",
      "metadata": {
        "id": "EqgC1Grl4m3o",
        "colab_type": "code",
        "colab": {}
      },
      "source": [
        "# Assigning train and test data\n",
        "\n",
        "X_train, Y_train = bcell_sars[features], bcell_sars[labels]\n",
        "\n",
        "# As covid dataset doesn't provide data for the target, we need to find them\n",
        "X_test = covid[features]     "
      ],
      "execution_count": 57,
      "outputs": []
    },
    {
      "cell_type": "code",
      "metadata": {
        "id": "RColFXtiA32Q",
        "colab_type": "code",
        "colab": {}
      },
      "source": [
        "# Importing the models\n",
        "from sklearn import linear_model\n",
        "from sklearn.linear_model import LogisticRegression\n",
        "from sklearn.ensemble import RandomForestClassifier\n",
        "from sklearn.linear_model import Perceptron\n",
        "from sklearn.linear_model import SGDClassifier\n",
        "from sklearn.tree import DecisionTreeClassifier\n",
        "from sklearn.neighbors import KNeighborsClassifier\n",
        "from sklearn.svm import SVC, LinearSVC\n",
        "from sklearn.naive_bayes import GaussianNB"
      ],
      "execution_count": 58,
      "outputs": []
    },
    {
      "cell_type": "markdown",
      "metadata": {
        "id": "wYziyPA2Cewe",
        "colab_type": "text"
      },
      "source": [
        "### Logistic Regression"
      ]
    },
    {
      "cell_type": "code",
      "metadata": {
        "id": "WyEqqbs5INEs",
        "colab_type": "code",
        "colab": {
          "base_uri": "https://localhost:8080/",
          "height": 74
        },
        "outputId": "d9bbbe72-e0f2-4657-b4ed-20e73b12659d"
      },
      "source": [
        "logreg = LogisticRegression()\n",
        "logreg.fit(X_train, Y_train)\n",
        "\n",
        "Y_pred = logreg.predict(X_test)\n",
        "\n",
        "acc_log = round(logreg.score(X_train, Y_train) * 100, 2)"
      ],
      "execution_count": 60,
      "outputs": [
        {
          "output_type": "stream",
          "text": [
            "/usr/local/lib/python3.6/dist-packages/sklearn/utils/validation.py:760: DataConversionWarning: A column-vector y was passed when a 1d array was expected. Please change the shape of y to (n_samples, ), for example using ravel().\n",
            "  y = column_or_1d(y, warn=True)\n"
          ],
          "name": "stderr"
        }
      ]
    },
    {
      "cell_type": "markdown",
      "metadata": {
        "id": "DqWlchmtIRAE",
        "colab_type": "text"
      },
      "source": [
        "### Stochastic Gradient Descent (SGD):"
      ]
    },
    {
      "cell_type": "code",
      "metadata": {
        "id": "QxUVFz3BBqNq",
        "colab_type": "code",
        "colab": {
          "base_uri": "https://localhost:8080/",
          "height": 74
        },
        "outputId": "7991c850-22da-42df-b53c-75fc143a1330"
      },
      "source": [
        "sgd = linear_model.SGDClassifier(max_iter=5, tol=None)\n",
        "sgd.fit(X_train, Y_train)\n",
        "Y_pred = sgd.predict(X_test)\n",
        "\n",
        "sgd.score(X_train, Y_train)\n",
        "\n",
        "acc_sgd = round(sgd.score(X_train, Y_train) * 100, 2)"
      ],
      "execution_count": 59,
      "outputs": [
        {
          "output_type": "stream",
          "text": [
            "/usr/local/lib/python3.6/dist-packages/sklearn/utils/validation.py:760: DataConversionWarning: A column-vector y was passed when a 1d array was expected. Please change the shape of y to (n_samples, ), for example using ravel().\n",
            "  y = column_or_1d(y, warn=True)\n"
          ],
          "name": "stderr"
        }
      ]
    },
    {
      "cell_type": "markdown",
      "metadata": {
        "id": "5pABg6dtIffv",
        "colab_type": "text"
      },
      "source": [
        "### Random Forest:"
      ]
    },
    {
      "cell_type": "code",
      "metadata": {
        "id": "G05Gh0gECtrN",
        "colab_type": "code",
        "colab": {
          "base_uri": "https://localhost:8080/",
          "height": 74
        },
        "outputId": "08be316b-147f-4722-a6cd-9e838e62d705"
      },
      "source": [
        "random_forest = RandomForestClassifier(n_estimators=100)\n",
        "random_forest.fit(X_train, Y_train)\n",
        "\n",
        "Y_prediction = random_forest.predict(X_test)\n",
        "\n",
        "random_forest.score(X_train, Y_train)\n",
        "acc_random_forest = round(random_forest.score(X_train, Y_train) * 100, 2)"
      ],
      "execution_count": 61,
      "outputs": [
        {
          "output_type": "stream",
          "text": [
            "/usr/local/lib/python3.6/dist-packages/ipykernel_launcher.py:2: DataConversionWarning: A column-vector y was passed when a 1d array was expected. Please change the shape of y to (n_samples,), for example using ravel().\n",
            "  \n"
          ],
          "name": "stderr"
        }
      ]
    },
    {
      "cell_type": "markdown",
      "metadata": {
        "id": "Mf-Z0CENIlms",
        "colab_type": "text"
      },
      "source": [
        "### K Nearest Neighbor:"
      ]
    },
    {
      "cell_type": "code",
      "metadata": {
        "id": "q3RPF_jyIjCv",
        "colab_type": "code",
        "colab": {
          "base_uri": "https://localhost:8080/",
          "height": 74
        },
        "outputId": "3f140085-edc7-4f51-bf55-c3e462d8d191"
      },
      "source": [
        "knn = KNeighborsClassifier(n_neighbors = 3) \n",
        "knn.fit(X_train, Y_train)  \n",
        "\n",
        "Y_pred = knn.predict(X_test)  \n",
        "\n",
        "acc_knn = round(knn.score(X_train, Y_train) * 100, 2)"
      ],
      "execution_count": 62,
      "outputs": [
        {
          "output_type": "stream",
          "text": [
            "/usr/local/lib/python3.6/dist-packages/ipykernel_launcher.py:2: DataConversionWarning: A column-vector y was passed when a 1d array was expected. Please change the shape of y to (n_samples, ), for example using ravel().\n",
            "  \n"
          ],
          "name": "stderr"
        }
      ]
    },
    {
      "cell_type": "markdown",
      "metadata": {
        "id": "2hBZBCrxI1Tk",
        "colab_type": "text"
      },
      "source": [
        "### Gaussian Naive Bayes:"
      ]
    },
    {
      "cell_type": "code",
      "metadata": {
        "id": "PUmnpXWgIy6t",
        "colab_type": "code",
        "colab": {
          "base_uri": "https://localhost:8080/",
          "height": 74
        },
        "outputId": "d0b5515c-9cac-44a2-805d-1ecb8871dfa6"
      },
      "source": [
        "gaussian = GaussianNB() \n",
        "gaussian.fit(X_train, Y_train)  \n",
        "\n",
        "Y_pred = gaussian.predict(X_test)  \n",
        "\n",
        "acc_gaussian = round(gaussian.score(X_train, Y_train) * 100, 2)"
      ],
      "execution_count": 63,
      "outputs": [
        {
          "output_type": "stream",
          "text": [
            "/usr/local/lib/python3.6/dist-packages/sklearn/naive_bayes.py:206: DataConversionWarning: A column-vector y was passed when a 1d array was expected. Please change the shape of y to (n_samples, ), for example using ravel().\n",
            "  y = column_or_1d(y, warn=True)\n"
          ],
          "name": "stderr"
        }
      ]
    },
    {
      "cell_type": "markdown",
      "metadata": {
        "id": "po7kjcu1I90e",
        "colab_type": "text"
      },
      "source": [
        "### Perceptron:"
      ]
    },
    {
      "cell_type": "code",
      "metadata": {
        "id": "pYsQlpmDI8HM",
        "colab_type": "code",
        "colab": {
          "base_uri": "https://localhost:8080/",
          "height": 110
        },
        "outputId": "e5cb07d6-a5d8-40d6-8066-4e50394fbb38"
      },
      "source": [
        "perceptron = Perceptron(max_iter=5)\n",
        "perceptron.fit(X_train, Y_train)\n",
        "\n",
        "Y_pred = perceptron.predict(X_test)\n",
        "\n",
        "acc_perceptron = round(perceptron.score(X_train, Y_train) * 100, 2)"
      ],
      "execution_count": 64,
      "outputs": [
        {
          "output_type": "stream",
          "text": [
            "/usr/local/lib/python3.6/dist-packages/sklearn/utils/validation.py:760: DataConversionWarning: A column-vector y was passed when a 1d array was expected. Please change the shape of y to (n_samples, ), for example using ravel().\n",
            "  y = column_or_1d(y, warn=True)\n",
            "/usr/local/lib/python3.6/dist-packages/sklearn/linear_model/_stochastic_gradient.py:557: ConvergenceWarning: Maximum number of iteration reached before convergence. Consider increasing max_iter to improve the fit.\n",
            "  ConvergenceWarning)\n"
          ],
          "name": "stderr"
        }
      ]
    },
    {
      "cell_type": "markdown",
      "metadata": {
        "id": "iTmyRjOwJCrw",
        "colab_type": "text"
      },
      "source": [
        "### Linear Support Vector Machine:"
      ]
    },
    {
      "cell_type": "code",
      "metadata": {
        "id": "7lQ_4h1HJAnA",
        "colab_type": "code",
        "colab": {
          "base_uri": "https://localhost:8080/",
          "height": 110
        },
        "outputId": "7d98b5b4-6248-40ea-e709-992a848e3267"
      },
      "source": [
        "linear_svc = LinearSVC()\n",
        "linear_svc.fit(X_train, Y_train)\n",
        "\n",
        "Y_pred = linear_svc.predict(X_test)\n",
        "\n",
        "acc_linear_svc = round(linear_svc.score(X_train, Y_train) * 100, 2)"
      ],
      "execution_count": 65,
      "outputs": [
        {
          "output_type": "stream",
          "text": [
            "/usr/local/lib/python3.6/dist-packages/sklearn/utils/validation.py:760: DataConversionWarning: A column-vector y was passed when a 1d array was expected. Please change the shape of y to (n_samples, ), for example using ravel().\n",
            "  y = column_or_1d(y, warn=True)\n",
            "/usr/local/lib/python3.6/dist-packages/sklearn/svm/_base.py:947: ConvergenceWarning: Liblinear failed to converge, increase the number of iterations.\n",
            "  \"the number of iterations.\", ConvergenceWarning)\n"
          ],
          "name": "stderr"
        }
      ]
    },
    {
      "cell_type": "markdown",
      "metadata": {
        "id": "kPBl3aygJKmb",
        "colab_type": "text"
      },
      "source": [
        "### Decision Tree"
      ]
    },
    {
      "cell_type": "code",
      "metadata": {
        "id": "bigLDY0BJGSP",
        "colab_type": "code",
        "colab": {}
      },
      "source": [
        "decision_tree = DecisionTreeClassifier() \n",
        "decision_tree.fit(X_train, Y_train)  \n",
        "\n",
        "Y_pred = decision_tree.predict(X_test)  \n",
        "\n",
        "acc_decision_tree = round(decision_tree.score(X_train, Y_train) * 100, 2)"
      ],
      "execution_count": 66,
      "outputs": []
    },
    {
      "cell_type": "markdown",
      "metadata": {
        "id": "AR4g0LnDJV0A",
        "colab_type": "text"
      },
      "source": [
        "# Best Model"
      ]
    },
    {
      "cell_type": "code",
      "metadata": {
        "id": "T0OBDH6nJRaN",
        "colab_type": "code",
        "colab": {
          "base_uri": "https://localhost:8080/",
          "height": 211
        },
        "outputId": "84c8449b-c0de-49bd-c2e8-4fd85a014b22"
      },
      "source": [
        "results = pd.DataFrame({\n",
        "    'Model': ['Support Vector Machines', 'KNN', 'Logistic Regression', \n",
        "              'Random Forest', 'Naive Bayes', 'Perceptron', \n",
        "              'Stochastic Gradient Decent', \n",
        "              'Decision Tree'],\n",
        "    'Score': [acc_linear_svc, acc_knn, acc_log, \n",
        "              acc_random_forest, acc_gaussian, acc_perceptron, \n",
        "              acc_sgd, acc_decision_tree]})\n",
        "result_df = results.sort_values(by='Score', ascending=False)\n",
        "result_df.style.hide_index()"
      ],
      "execution_count": 102,
      "outputs": [
        {
          "output_type": "execute_result",
          "data": {
            "text/html": [
              "<style  type=\"text/css\" >\n",
              "</style><table id=\"T_d36da890_d7a3_11ea_9ae9_0242ac1c0002\" ><thead>    <tr>        <th class=\"col_heading level0 col0\" >Model</th>        <th class=\"col_heading level0 col1\" >Score</th>    </tr></thead><tbody>\n",
              "                <tr>\n",
              "                                <td id=\"T_d36da890_d7a3_11ea_9ae9_0242ac1c0002row0_col0\" class=\"data row0 col0\" >Random Forest</td>\n",
              "                        <td id=\"T_d36da890_d7a3_11ea_9ae9_0242ac1c0002row0_col1\" class=\"data row0 col1\" >99.870000</td>\n",
              "            </tr>\n",
              "            <tr>\n",
              "                                <td id=\"T_d36da890_d7a3_11ea_9ae9_0242ac1c0002row1_col0\" class=\"data row1 col0\" >Decision Tree</td>\n",
              "                        <td id=\"T_d36da890_d7a3_11ea_9ae9_0242ac1c0002row1_col1\" class=\"data row1 col1\" >99.870000</td>\n",
              "            </tr>\n",
              "            <tr>\n",
              "                                <td id=\"T_d36da890_d7a3_11ea_9ae9_0242ac1c0002row2_col0\" class=\"data row2 col0\" >KNN</td>\n",
              "                        <td id=\"T_d36da890_d7a3_11ea_9ae9_0242ac1c0002row2_col1\" class=\"data row2 col1\" >88.040000</td>\n",
              "            </tr>\n",
              "            <tr>\n",
              "                                <td id=\"T_d36da890_d7a3_11ea_9ae9_0242ac1c0002row3_col0\" class=\"data row3 col0\" >Logistic Regression</td>\n",
              "                        <td id=\"T_d36da890_d7a3_11ea_9ae9_0242ac1c0002row3_col1\" class=\"data row3 col1\" >73.330000</td>\n",
              "            </tr>\n",
              "            <tr>\n",
              "                                <td id=\"T_d36da890_d7a3_11ea_9ae9_0242ac1c0002row4_col0\" class=\"data row4 col0\" >Stochastic Gradient Decent</td>\n",
              "                        <td id=\"T_d36da890_d7a3_11ea_9ae9_0242ac1c0002row4_col1\" class=\"data row4 col1\" >73.130000</td>\n",
              "            </tr>\n",
              "            <tr>\n",
              "                                <td id=\"T_d36da890_d7a3_11ea_9ae9_0242ac1c0002row5_col0\" class=\"data row5 col0\" >Support Vector Machines</td>\n",
              "                        <td id=\"T_d36da890_d7a3_11ea_9ae9_0242ac1c0002row5_col1\" class=\"data row5 col1\" >73.010000</td>\n",
              "            </tr>\n",
              "            <tr>\n",
              "                                <td id=\"T_d36da890_d7a3_11ea_9ae9_0242ac1c0002row6_col0\" class=\"data row6 col0\" >Perceptron</td>\n",
              "                        <td id=\"T_d36da890_d7a3_11ea_9ae9_0242ac1c0002row6_col1\" class=\"data row6 col1\" >72.930000</td>\n",
              "            </tr>\n",
              "            <tr>\n",
              "                                <td id=\"T_d36da890_d7a3_11ea_9ae9_0242ac1c0002row7_col0\" class=\"data row7 col0\" >Naive Bayes</td>\n",
              "                        <td id=\"T_d36da890_d7a3_11ea_9ae9_0242ac1c0002row7_col1\" class=\"data row7 col1\" >71.950000</td>\n",
              "            </tr>\n",
              "    </tbody></table>"
            ],
            "text/plain": [
              "<pandas.io.formats.style.Styler at 0x7f44cb4c9ba8>"
            ]
          },
          "metadata": {
            "tags": []
          },
          "execution_count": 102
        }
      ]
    },
    {
      "cell_type": "markdown",
      "metadata": {
        "id": "74d0NwHsWUxj",
        "colab_type": "text"
      },
      "source": [
        "As we can see, the Random Forest classifier goes on the first place. But first, let us check, how random-forest performs, when we use cross validation."
      ]
    },
    {
      "cell_type": "markdown",
      "metadata": {
        "id": "7PEcjMRkelpH",
        "colab_type": "text"
      },
      "source": [
        "### K-Fold Validation"
      ]
    },
    {
      "cell_type": "code",
      "metadata": {
        "id": "X26abDA-WUFf",
        "colab_type": "code",
        "colab": {
          "base_uri": "https://localhost:8080/",
          "height": 202
        },
        "outputId": "bddb0c46-934c-4cbe-e1a6-b4e7addfc61f"
      },
      "source": [
        "from sklearn.model_selection import cross_val_score\n",
        "rf = RandomForestClassifier(n_estimators=100)\n",
        "scores = cross_val_score(rf, X_train, \n",
        "                         Y_train, cv=3, \n",
        "                         scoring = \"accuracy\")\n",
        "\n",
        "print(\"Scores:\", scores)\n",
        "print(\"Mean:\", scores.mean())\n",
        "print(\"Standard Deviation:\", scores.std())"
      ],
      "execution_count": 128,
      "outputs": [
        {
          "output_type": "stream",
          "text": [
            "/usr/local/lib/python3.6/dist-packages/sklearn/model_selection/_validation.py:515: DataConversionWarning: A column-vector y was passed when a 1d array was expected. Please change the shape of y to (n_samples,), for example using ravel().\n",
            "  estimator.fit(X_train, y_train, **fit_params)\n",
            "/usr/local/lib/python3.6/dist-packages/sklearn/model_selection/_validation.py:515: DataConversionWarning: A column-vector y was passed when a 1d array was expected. Please change the shape of y to (n_samples,), for example using ravel().\n",
            "  estimator.fit(X_train, y_train, **fit_params)\n",
            "/usr/local/lib/python3.6/dist-packages/sklearn/model_selection/_validation.py:515: DataConversionWarning: A column-vector y was passed when a 1d array was expected. Please change the shape of y to (n_samples,), for example using ravel().\n",
            "  estimator.fit(X_train, y_train, **fit_params)\n"
          ],
          "name": "stderr"
        },
        {
          "output_type": "stream",
          "text": [
            "Scores: [0.43348762 0.32823506 0.38619441]\n",
            "Mean: 0.3826390286442611\n",
            "Standard Deviation: 0.04304266244111728\n"
          ],
          "name": "stdout"
        }
      ]
    },
    {
      "cell_type": "code",
      "metadata": {
        "id": "gnSgaNRcY4Lc",
        "colab_type": "code",
        "colab": {}
      },
      "source": [
        "importances = pd.DataFrame({'feature':X_train.columns,\n",
        "                            'importance':np.round(random_forest.feature_importances_,3)})\n",
        "importances = importances.sort_values('importance',\n",
        "                                      ascending=False).set_index('feature')"
      ],
      "execution_count": 109,
      "outputs": []
    },
    {
      "cell_type": "code",
      "metadata": {
        "id": "RWddcxkIZsqY",
        "colab_type": "code",
        "colab": {
          "base_uri": "https://localhost:8080/",
          "height": 391
        },
        "outputId": "7cac0c7e-f5a7-4bd5-a99f-2042fa5eea25"
      },
      "source": [
        "importances.plot.bar()"
      ],
      "execution_count": 110,
      "outputs": [
        {
          "output_type": "execute_result",
          "data": {
            "text/plain": [
              "<matplotlib.axes._subplots.AxesSubplot at 0x7f44cb4d8cc0>"
            ]
          },
          "metadata": {
            "tags": []
          },
          "execution_count": 110
        },
        {
          "output_type": "display_data",
          "data": {
            "image/png": "[encoded data removed]",
            "text/plain": [
              "<Figure size 432x288 with 1 Axes>"
            ]
          },
          "metadata": {
            "tags": [],
            "needs_background": "light"
          }
        }
      ]
    },
    {
      "cell_type": "markdown",
      "metadata": {
        "id": "XASi4mRDebvS",
        "colab_type": "text"
      },
      "source": [
        "### Confusion Matrix"
      ]
    },
    {
      "cell_type": "code",
      "metadata": {
        "id": "RX1UgcuqdWac",
        "colab_type": "code",
        "colab": {
          "base_uri": "https://localhost:8080/",
          "height": 184
        },
        "outputId": "03a7348d-a4a2-413e-b5d0-d230ac02185a"
      },
      "source": [
        "from sklearn.model_selection import cross_val_predict\n",
        "from sklearn.metrics import confusion_matrix\n",
        "\n",
        "predictions = cross_val_predict(random_forest, X_train, Y_train, cv=3)\n",
        "confusion_matrix(Y_train, predictions)"
      ],
      "execution_count": 116,
      "outputs": [
        {
          "output_type": "stream",
          "text": [
            "/usr/local/lib/python3.6/dist-packages/sklearn/model_selection/_validation.py:841: DataConversionWarning: A column-vector y was passed when a 1d array was expected. Please change the shape of y to (n_samples,), for example using ravel().\n",
            "  estimator.fit(X_train, y_train, **fit_params)\n",
            "/usr/local/lib/python3.6/dist-packages/sklearn/model_selection/_validation.py:841: DataConversionWarning: A column-vector y was passed when a 1d array was expected. Please change the shape of y to (n_samples,), for example using ravel().\n",
            "  estimator.fit(X_train, y_train, **fit_params)\n",
            "/usr/local/lib/python3.6/dist-packages/sklearn/model_selection/_validation.py:841: DataConversionWarning: A column-vector y was passed when a 1d array was expected. Please change the shape of y to (n_samples,), for example using ravel().\n",
            "  estimator.fit(X_train, y_train, **fit_params)\n"
          ],
          "name": "stderr"
        },
        {
          "output_type": "execute_result",
          "data": {
            "text/plain": [
              "array([[3066, 7799],\n",
              "       [1571, 2471]])"
            ]
          },
          "metadata": {
            "tags": []
          },
          "execution_count": 116
        }
      ]
    },
    {
      "cell_type": "markdown",
      "metadata": {
        "id": "ZFbWtV5heYlX",
        "colab_type": "text"
      },
      "source": [
        "### precision and recall"
      ]
    },
    {
      "cell_type": "code",
      "metadata": {
        "id": "dVKhG-S6d1SV",
        "colab_type": "code",
        "colab": {
          "base_uri": "https://localhost:8080/",
          "height": 54
        },
        "outputId": "1361bd10-1ecc-4e9f-b37a-a0a3ca8589bf"
      },
      "source": [
        "from sklearn.metrics import precision_score, recall_score\n",
        "\n",
        "print(\"Precision:\", precision_score(Y_train, predictions))\n",
        "print(\"Recall:\",recall_score(Y_train, predictions))"
      ],
      "execution_count": 117,
      "outputs": [
        {
          "output_type": "stream",
          "text": [
            "Precision: 0.24060370009737098\n",
            "Recall: 0.6113310242454231\n"
          ],
          "name": "stdout"
        }
      ]
    },
    {
      "cell_type": "markdown",
      "metadata": {
        "id": "Mjon1DGYeJ1b",
        "colab_type": "text"
      },
      "source": [
        "Our model predicts 24% of the time, a person have corona correctly (precision). The recall tells us that it predicted the survival of 61 % of the people who actually have Corona."
      ]
    },
    {
      "cell_type": "markdown",
      "metadata": {
        "id": "gBeDr3NyiE57",
        "colab_type": "text"
      },
      "source": [
        "### F-Score"
      ]
    },
    {
      "cell_type": "code",
      "metadata": {
        "id": "1FbDZBFieFBg",
        "colab_type": "code",
        "colab": {
          "base_uri": "https://localhost:8080/",
          "height": 35
        },
        "outputId": "d453f836-13db-4a6f-a803-aca22e56a88f"
      },
      "source": [
        "from sklearn.metrics import f1_score\n",
        "f1_score(Y_train, predictions)"
      ],
      "execution_count": 129,
      "outputs": [
        {
          "output_type": "execute_result",
          "data": {
            "text/plain": [
              "0.34530463946338735"
            ]
          },
          "metadata": {
            "tags": []
          },
          "execution_count": 129
        }
      ]
    },
    {
      "cell_type": "markdown",
      "metadata": {
        "id": "JkbQ8Ir4iRZI",
        "colab_type": "text"
      },
      "source": [
        "There we have it, a 35% F-score. The score is not that high, because we have a recall of 61%. But unfortunately the F-score is not perfect, because it favors classifiers that have a similar precision and recall. This is a problem, because you sometimes want a high precision and sometimes a high recall. The thing is that an increasing precision, sometimes results in an decreasing recall and vice versa (depending on the threshold). This is called the precision/recall tradeoff."
      ]
    },
    {
      "cell_type": "markdown",
      "metadata": {
        "id": "ZnBkOZyOibRI",
        "colab_type": "text"
      },
      "source": [
        "### Precision Recall Curve"
      ]
    },
    {
      "cell_type": "code",
      "metadata": {
        "id": "Ljju7NpliJSf",
        "colab_type": "code",
        "colab": {
          "base_uri": "https://localhost:8080/",
          "height": 455
        },
        "outputId": "e970509b-47fd-4b5a-ac33-b8fdcbd07e03"
      },
      "source": [
        "from sklearn.metrics import precision_recall_curve\n",
        "\n",
        "# getting the probabilities of our predictions\n",
        "y_scores = random_forest.predict_proba(X_train)\n",
        "y_scores = y_scores[:,1]\n",
        "\n",
        "precision, recall, threshold = precision_recall_curve(Y_train, \n",
        "                                                      y_scores)\n",
        "\n",
        "def plot_precision_and_recall(precision, recall, threshold):\n",
        "    plt.plot(threshold, precision[:-1], \"r-\", label=\"precision\", linewidth=5)\n",
        "    plt.plot(threshold, recall[:-1], \"b\", label=\"recall\", linewidth=5)\n",
        "    plt.xlabel(\"Threshold\", fontsize=19)\n",
        "    plt.legend(loc=\"upper right\", fontsize=19)\n",
        "    plt.ylim([0, 1])\n",
        "\n",
        "plt.figure(figsize=(14, 7))\n",
        "plot_precision_and_recall(precision, recall, threshold)\n",
        "plt.show()"
      ],
      "execution_count": 131,
      "outputs": [
        {
          "output_type": "display_data",
          "data": {
            "image/png": "[encoded data removed]",
            "text/plain": [
              "<Figure size 1008x504 with 1 Axes>"
            ]
          },
          "metadata": {
            "tags": [],
            "needs_background": "light"
          }
        }
      ]
    },
    {
      "cell_type": "code",
      "metadata": {
        "id": "N1Te16LOistI",
        "colab_type": "code",
        "colab": {
          "base_uri": "https://localhost:8080/",
          "height": 451
        },
        "outputId": "5acaa85a-827b-4fd1-84ec-c0726433acfa"
      },
      "source": [
        "def plot_precision_vs_recall(precision, recall):\n",
        "    plt.plot(recall, precision, \"g--\", linewidth=2.5)\n",
        "    plt.ylabel(\"recall\", fontsize=19)\n",
        "    plt.xlabel(\"precision\", fontsize=19)\n",
        "    plt.axis([0, 1.5, 0, 1.5])\n",
        "\n",
        "plt.figure(figsize=(14, 7))\n",
        "plot_precision_vs_recall(precision, recall)\n",
        "plt.show()"
      ],
      "execution_count": 132,
      "outputs": [
        {
          "output_type": "display_data",
          "data": {
            "image/png": "[encoded data removed]",
            "text/plain": [
              "<Figure size 1008x504 with 1 Axes>"
            ]
          },
          "metadata": {
            "tags": [],
            "needs_background": "light"
          }
        }
      ]
    },
    {
      "cell_type": "code",
      "metadata": {
        "id": "KzLRSPPBj4G_",
        "colab_type": "code",
        "colab": {
          "base_uri": "https://localhost:8080/",
          "height": 451
        },
        "outputId": "15916112-886b-4766-a82b-177fecbdeea5"
      },
      "source": [
        "from sklearn.metrics import roc_curve\n",
        "# compute true positive rate and false positive rate\n",
        "false_positive_rate, true_positive_rate, thresholds = roc_curve(Y_train, y_scores)\n",
        "# plotting them against each other\n",
        "def plot_roc_curve(false_positive_rate, true_positive_rate, label=None):\n",
        "    plt.plot(false_positive_rate, true_positive_rate, linewidth=2, label=label)\n",
        "    plt.plot([0, 1], [0, 1], 'r', linewidth=4)\n",
        "    plt.axis([0, 1, 0, 1])\n",
        "    plt.xlabel('False Positive Rate (FPR)', fontsize=16)\n",
        "    plt.ylabel('True Positive Rate (TPR)', fontsize=16)\n",
        "\n",
        "plt.figure(figsize=(14, 7))\n",
        "plot_roc_curve(false_positive_rate, true_positive_rate)\n",
        "plt.show()"
      ],
      "execution_count": 133,
      "outputs": [
        {
          "output_type": "display_data",
          "data": {
            "image/png": "[encoded data removed]",
            "text/plain": [
              "<Figure size 1008x504 with 1 Axes>"
            ]
          },
          "metadata": {
            "tags": [],
            "needs_background": "light"
          }
        }
      ]
    },
    {
      "cell_type": "code",
      "metadata": {
        "id": "INkl0pcwkSi-",
        "colab_type": "code",
        "colab": {
          "base_uri": "https://localhost:8080/",
          "height": 35
        },
        "outputId": "faf2c307-6043-4528-bd8b-c737673bc288"
      },
      "source": [
        "from sklearn.metrics import roc_auc_score\n",
        "r_a_score = roc_auc_score(Y_train, y_scores)\n",
        "print(\"ROC-AUC-Score:\", r_a_score)"
      ],
      "execution_count": 134,
      "outputs": [
        {
          "output_type": "stream",
          "text": [
            "ROC-AUC-Score: 0.9912764454588988\n"
          ],
          "name": "stdout"
        }
      ]
    }
  ]
}