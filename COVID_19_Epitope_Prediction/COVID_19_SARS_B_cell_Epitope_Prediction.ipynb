{
  "nbformat": 4,
  "nbformat_minor": 0,
  "metadata": {
    "colab": {
      "name": "COVID-19/SARS B-cell Epitope Prediction.ipynb",
      "provenance": [],
      "collapsed_sections": [],
      "toc_visible": true,
      "authorship_tag": "ABX9TyMx/JI8UA0wm8tumiUn2pZQ",
      "include_colab_link": true
    },
    "kernelspec": {
      "name": "python3",
      "display_name": "Python 3"
    }
  },
  "cells": [
    {
      "cell_type": "markdown",
      "metadata": {
        "id": "view-in-github",
        "colab_type": "text"
      },
      "source": [
        "<a href=\"https://colab.research.google.com/github/hemraj4545/Projects/blob/master/COVID_19_Epitope_Prediction/COVID_19_SARS_B_cell_Epitope_Prediction.ipynb\" target=\"_parent\"><img src=\"https://colab.research.google.com/assets/colab-badge.svg\" alt=\"Open In Colab\"/></a>"
      ]
    },
    {
      "cell_type": "code",
      "metadata": {
        "id": "j6ZAARz3GTrV",
        "colab_type": "code",
        "colab": {}
      },
      "source": [
        "import pandas as pd\n",
        "import seaborn as sns\n",
        "import numpy as np\n",
        "import matplotlib.pyplot as plt"
      ],
      "execution_count": 17,
      "outputs": []
    },
    {
      "cell_type": "code",
      "metadata": {
        "id": "jd8nIk_rGzhh",
        "colab_type": "code",
        "colab": {}
      },
      "source": [
        "bcell = pd.read_csv(\"input_bcell.csv\", nrows=25000)\n",
        "covid = pd.read_csv(\"input_covid.csv\", nrows=25000)\n",
        "sars = pd.read_csv(\"input_sars.csv\")"
      ],
      "execution_count": 18,
      "outputs": []
    },
    {
      "cell_type": "markdown",
      "metadata": {
        "id": "zhq65skIOlOH",
        "colab_type": "text"
      },
      "source": [
        "This contains three data files:\n",
        "\n",
        "    input_bcell.csv : this is our main training data. The number of rows is 14387 for all combinations of 14362 peptides and 757 proteins.\n",
        "    input_sars.csv : this is also our main training data. The number of rows is 520.\n",
        "    input_covid.csv : this is our target data. there is no label data in columns.\n",
        "\n",
        "All of three datasets consists of information of protein and peptide:\n",
        "\n",
        "    parent_protein_id : parent protein ID\n",
        "    protein_seq : parent protein sequence\n",
        "    start_position : start position of peptide\n",
        "    end_position : end position of peptide\n",
        "    peptide_seq : peptide sequence\n",
        "    chou_fasman : peptide feature, $\\beta$ turn\n",
        "    emini : peptide feature, relative surface accessibility\n",
        "    kolaskar_tongaonkar : peptide feature, antigenicity\n",
        "    parker : peptide feature, hydrophobicity\n",
        "    isoelectric_point : protein feature\n",
        "    aromaticity: protein feature\n",
        "    hydrophobicity : protein feature\n",
        "    stability : protein feature\n",
        "\n",
        "and bcell and sars dataset have antibody valence(target value):\n",
        "\n",
        "    target : antibody valence (target value)\n"
      ]
    },
    {
      "cell_type": "markdown",
      "metadata": {
        "id": "H9A2BrR8IBC9",
        "colab_type": "text"
      },
      "source": [
        "## Chou and Fasman beta turn prediction\n",
        "\n",
        "- Reference: [Chou PY, Fasman GD. Prediction of the secondary structure of proteins from their amino acid sequence. Adv Enzymol Relat Areas Mol Biol. 1978;47:45-148.](http://www.ncbi.nlm.nih.gov/entrez/query.fcgi?cmd=Retrieve&db=pubmed&dopt=Abstract&list_uids=364941)\n",
        "\n",
        "- Description: The rationale for predicting turns to predict antibody epitopes is based on the paper by [Pellequer et al, Immunology Letters, 36 (1993) 83-99.](http://www.ncbi.nlm.nih.gov/pubmed/7688347) Instead of implementing the turn scale of that paper which has some non-standard properties, we decided to use the Chou and Fasman scale which is commonly used to predict beta turns as described in the reference link above.\n",
        "\n",
        "**Scale**\n",
        "\n",
        "<table>\n",
        "<thead>\n",
        "\t\t\t\t\t\t\t<tr>\n",
        "\t\t\t\t\t\t\t\t<th>A</th><th>C</th><th>D</th><th>E</th><th>F</th><th>G</th><th>H</th><th>I</th><th>K</th><th>L</th><th>M</th><th>N</th><th>P</th><th>Q</th><th>R</th><th>S</th><th>T</th><th>V</th><th>W</th><th>Y</th>\n",
        "\t\t\t\t\t\t\t</tr>\n",
        "\t\t\t\t\t\t</thead>\n",
        "\t\t\t\t\t\t<tr>\n",
        "\t\t\t\t\t\t\t<td>0.66</td><td>1.19</td><td>1.46</td><td>0.74</td><td>0.6</td><td>1.56</td><td>0.95</td><td>0.47</td><td>1.01</td><td>0.59</td><td>0.6</td><td>1.56</td><td>1.52</td><td>0.98</td><td>0.95</td><td>1.43</td><td>0.96</td><td>0.5</td><td>0.96</td><td>1.14</td>\n",
        "\t\t\t\t\t\t</tr>\n",
        "\t\t\t\t\t</table>\n",
        "\n",
        "## Emini surface accessibility scale\n",
        "\n",
        "- Reference: [Emini EA, Hughes JV, Perlow DS, Boger J. Induction of hepatitis A virus-neutralizing antibody by a virus-specific synthetic peptide. J Virol. 1985 Sep;55(3):836-9.](http://www.ncbi.nlm.nih.gov/entrez/query.fcgi?cmd=Retrieve&db=pubmed&dopt=Abstract&list_uids=2991600)\n",
        "\n",
        "- Description: The calculation was based on surface accessibility scale on a product instead of an addition within the window. The accessibility profile was obtained using the formulae Sn = (n+4+i) (0.37)-6 where Sn is the surface probability, dn is the fractional surface probability value, and i vary from 1 to 6. A hexapeptide sequence with Sn greater than 1.0 indicates an increased probability for being found on the surface.\n",
        "\n",
        "**Scale**\n",
        "\n",
        "<table>\n",
        "<thead>\n",
        "\t<tr>\n",
        "\t\t<th>A</th><th>C</th><th>D</th><th>E</th><th>F</th><th>G</th><th>H</th><th>I</th><th>K</th><th>L</th><th>M</th><th>N</th><th>P</th><th>Q</th><th>R</th><th>S</th><th>T</th><th>V</th><th>W</th><th>Y</th>\n",
        "\t</tr>\n",
        "</thead>\n",
        "<tr>\n",
        "\t<td>0.49</td><td>0.26</td><td>0.81</td><td>0.84</td><td>0.42</td><td>0.48</td><td>0.66</td><td>0.34</td><td>0.97</td><td>0.4</td><td>0.48</td><td>0.78</td><td>0.75</td><td>0.84</td><td>0.95</td><td>0.65</td><td>0.7</td><td>0.36</td><td>0.51</td><td>0.76</td>\n",
        "</tr>\n",
        "</table>\n",
        "\n",
        "## Karplus and Schulz flexibility scale\n",
        "\n",
        "- Reference: Karplus PA, Schulz GE. Prediction of Chain Flexibility in Proteins - A tool for the Selection of Peptide Antigens. Naturwissenschafren 1985; 72:212-3.\n",
        "\n",
        "- Description: In this method, flexibility scale based on mobility of protein segments on the basis of the known temperature B factors of the a-carbons of 31 proteins of known structure was constructed. The calculation based on a flexibility scale is similar to classical calculation, except that the center is the first amino acid of the six amino acids window length, and there are three scales for describing flexibility instead of a single one.\n",
        "\n",
        "## Kolaskar and Tongaonkar antigenicity scale\n",
        "\n",
        "- Reference: [Kolaskar AS, Tongaonkar PC. A semi-empirical method for prediction of antigenic determinants on protein antigens. FEBS Lett. 1990 Dec 10;276(1-2):172-4.](http://www.ncbi.nlm.nih.gov/entrez/query.fcgi?cmd=Retrieve&db=pubmed&dopt=Abstract&list_uids=1702393)\n",
        "\n",
        "- Description: A semi-empirical method which makes use of physicochemical properties of amino acid residues and their frequencies of occurrence in experimentally known segmental epitopes was developed to predict antigenic determinants on proteins. Application of this method to a large number of proteins has shown by the authors that the method can predict antigenic determinants with about 75% accuracy which is better than most of the known methods.\n",
        "\n",
        "**Scale**\n",
        "\n",
        "<table>\n",
        "\t\t\t\t\t\t<thead>\n",
        "\t\t\t\t\t\t\t<tr>\n",
        "\t\t\t\t\t\t\t\t<th>A</th><th>C</th><th>D</th><th>E</th><th>F</th><th>G</th><th>H</th><th>I</th><th>K</th><th>L</th><th>M</th><th>N</th><th>P</th><th>Q</th><th>R</th><th>S</th><th>T</th><th>V</th><th>W</th><th>Y</th>\n",
        "\t\t\t\t\t\t\t</tr>\n",
        "\t\t\t\t\t\t</thead>\n",
        "\t\t\t\t\t\t<tr>\n",
        "\t\t\t\t\t\t\t<td>1.064</td><td>1.412</td><td>0.866</td><td>0.851</td><td>1.091</td><td>0.874</td><td>1.105</td><td>1.152</td><td>0.93</td><td>1.25</td><td>0.826</td><td>0.776</td><td>1.064</td><td>1.015</td><td>0.873</td><td>1.012</td><td>0.909</td><td>1.383</td><td>0.893</td><td>1.161</td> \n",
        "\t\t\t\t\t\t</tr>\n",
        "\t\t\t\t\t</table>\n",
        "\n",
        "## Parker Hydrophilicity Prediction\n",
        "\n",
        "- Reference: [Parker JM, Guo D, Hodges RS. New hydrophilicity scale derived from high-performance liquid chromatography peptide retention data: correlation of predicted surface residues with antigenicity and X-ray-derived accessible sites. Biochemistry. 1986 Sep 23; 25(19):5425-32.](http://www.ncbi.nlm.nih.gov/entrez/query.fcgi?cmd=Retrieve&db=pubmed&dopt=Abstract&list_uids=2430611)\n",
        "\n",
        "- Description: In this method, hydrophilic scale based on peptide retention times during high-performance liquid chromatography (HPLC) on a reversed-phase column was constructed. A window of seven residues was used for analyzing epitope region. The corresponding value of the scale was introduced for each of the seven residues and the arithmetical mean of the seven residue value was assigned to the fourth, (i+3), residue in the segment.\n",
        "\n",
        "**Scale**\n",
        "<table>\n",
        "\t\t\t\t\t\t<thead>\n",
        "\t\t\t\t\t\t\t<tr>\n",
        "\t\t\t\t\t\t\t\t<th>A</th><th>C</th><th>D</th><th>E</th><th>F</th><th>G</th><th>H</th><th>I</th><th>K</th><th>L</th><th>M</th><th>N</th><th>P</th><th>Q</th><th>R</th><th>S</th><th>T</th><th>V</th><th>W</th><th>Y</th>\n",
        "\t\t\t\t\t\t\t</tr>\n",
        "\t\t\t\t\t\t</thead>\n",
        "\t\t\t\t\t\t<tr>\n",
        "\t\t\t\t\t\t\t<td>2.1</td><td>1.4</td><td>10.0</td><td>7.8</td><td>-9.2</td><td>5.7</td><td>2.1</td><td>-8.0</td><td>5.7</td><td>-9.2</td><td>-4.2</td><td>7.0</td><td>2.1</td><td>6.0</td><td>4.2</td><td>6.5</td><td>5.2</td><td>-3.7</td><td>-10.0</td><td>-1.9</td>\n",
        "\t\t\t\t\t\t</tr>\n",
        "\t\t\t\t\t</table>\n",
        "\n",
        "## Isoelectric Point\n",
        "\n",
        "![](https://www.antibodysociety.org/wordpress/wp-content/uploads/2015/06/background-300x300.jpg)\n",
        "\n",
        "One important characteristic of monoclonal antibodies (mAbs) is their isoelectric point (pI), which essentially is the pH at which the antibody has no net electrical charge, and its value depends on the charged amino acids the antibody contains. If the pH of the surrounding environment is below the antibody’s pI, then the molecule carries a net positive charge, whereas the antibody will carry a net negative charge when the pH is above the pI.\n",
        "\n",
        "# Reference :\n",
        "\n",
        "- [B-Cell Help](http://tools.iedb.org/bcell/help/)\n",
        "- [Importance Isoelectric Point of Antibodies](https://www.antibodysociety.org/new-articles/importance-isoelectric-point-pi-antibodies/)"
      ]
    },
    {
      "cell_type": "markdown",
      "metadata": {
        "id": "iz_oMXuRP-9i",
        "colab_type": "text"
      },
      "source": [
        "## Task : SARS prediction with B-cell data\n",
        "\n",
        "### Task Details\n",
        "\n",
        "Our purpose is estimating the epitope region of SARS-CoV by only analyzing the B-cell dataset.\n",
        "\n",
        "We are addressed the problem of classifying peptides into two categories in this task: antibodies with inducing properties (positive) and antibodies without inducing properties (negative), similar to the paper we have published.\n",
        "\n",
        "Using the data provided, predict the antibody valence of the SARS-CoV data. It has a target value, so you can experiment and train normally to develop a model.\n",
        "Evaluation\n",
        "\n",
        "    Area Under the Curve(AUC)\n",
        "        AUC of epitope prediction for SARS using the Bcell dataset as the training set and the SARS dataset as the test set.\n",
        "\n",
        "    Documentation Quality\n",
        "        Reusable and easy-to-understand code\n"
      ]
    },
    {
      "cell_type": "code",
      "metadata": {
        "id": "QTBhcSEAQ2nh",
        "colab_type": "code",
        "colab": {
          "base_uri": "https://localhost:8080/",
          "height": 226
        },
        "outputId": "7dd207d3-b4a3-4e37-a98d-4c1f5846f46e"
      },
      "source": [
        "bcell.head()"
      ],
      "execution_count": 19,
      "outputs": [
        {
          "output_type": "execute_result",
          "data": {
            "text/html": [
              "<div>\n",
              "<style scoped>\n",
              "    .dataframe tbody tr th:only-of-type {\n",
              "        vertical-align: middle;\n",
              "    }\n",
              "\n",
              "    .dataframe tbody tr th {\n",
              "        vertical-align: top;\n",
              "    }\n",
              "\n",
              "    .dataframe thead th {\n",
              "        text-align: right;\n",
              "    }\n",
              "</style>\n",
              "<table border=\"1\" class=\"dataframe\">\n",
              "  <thead>\n",
              "    <tr style=\"text-align: right;\">\n",
              "      <th></th>\n",
              "      <th>parent_protein_id</th>\n",
              "      <th>protein_seq</th>\n",
              "      <th>start_position</th>\n",
              "      <th>end_position</th>\n",
              "      <th>peptide_seq</th>\n",
              "      <th>chou_fasman</th>\n",
              "      <th>emini</th>\n",
              "      <th>kolaskar_tongaonkar</th>\n",
              "      <th>parker</th>\n",
              "      <th>isoelectric_point</th>\n",
              "      <th>aromaticity</th>\n",
              "      <th>hydrophobicity</th>\n",
              "      <th>stability</th>\n",
              "      <th>target</th>\n",
              "    </tr>\n",
              "  </thead>\n",
              "  <tbody>\n",
              "    <tr>\n",
              "      <th>0</th>\n",
              "      <td>A2T3T0</td>\n",
              "      <td>MDVLYSLSKTLKDARDKIVEGTLYSNVSDLIQQFNQMIITMNGNEF...</td>\n",
              "      <td>161</td>\n",
              "      <td>165</td>\n",
              "      <td>SASFT</td>\n",
              "      <td>1.016</td>\n",
              "      <td>0.703</td>\n",
              "      <td>1.018</td>\n",
              "      <td>2.22</td>\n",
              "      <td>5.810364</td>\n",
              "      <td>0.103275</td>\n",
              "      <td>-0.143829</td>\n",
              "      <td>40.273300</td>\n",
              "      <td>1</td>\n",
              "    </tr>\n",
              "    <tr>\n",
              "      <th>1</th>\n",
              "      <td>F0V2I4</td>\n",
              "      <td>MTIHKVAINGFGRIGRLLFRNLLSSQGVQVVAVNDVVDIKVLTHLL...</td>\n",
              "      <td>251</td>\n",
              "      <td>255</td>\n",
              "      <td>LCLKI</td>\n",
              "      <td>0.770</td>\n",
              "      <td>0.179</td>\n",
              "      <td>1.199</td>\n",
              "      <td>-3.86</td>\n",
              "      <td>6.210876</td>\n",
              "      <td>0.065476</td>\n",
              "      <td>-0.036905</td>\n",
              "      <td>24.998512</td>\n",
              "      <td>1</td>\n",
              "    </tr>\n",
              "    <tr>\n",
              "      <th>2</th>\n",
              "      <td>O75508</td>\n",
              "      <td>MVATCLQVVGFVTSFVGWIGVIVTTSTNDWVVTCGYTIPTCRKLDE...</td>\n",
              "      <td>145</td>\n",
              "      <td>149</td>\n",
              "      <td>AHRET</td>\n",
              "      <td>0.852</td>\n",
              "      <td>3.427</td>\n",
              "      <td>0.960</td>\n",
              "      <td>4.28</td>\n",
              "      <td>8.223938</td>\n",
              "      <td>0.091787</td>\n",
              "      <td>0.879227</td>\n",
              "      <td>27.863333</td>\n",
              "      <td>1</td>\n",
              "    </tr>\n",
              "    <tr>\n",
              "      <th>3</th>\n",
              "      <td>O84462</td>\n",
              "      <td>MTNSISGYQPTVTTSTSSTTSASGASGSLGASSVSTTANATVTQTA...</td>\n",
              "      <td>152</td>\n",
              "      <td>156</td>\n",
              "      <td>SNYDD</td>\n",
              "      <td>1.410</td>\n",
              "      <td>2.548</td>\n",
              "      <td>0.936</td>\n",
              "      <td>6.32</td>\n",
              "      <td>4.237976</td>\n",
              "      <td>0.044776</td>\n",
              "      <td>-0.521393</td>\n",
              "      <td>30.765373</td>\n",
              "      <td>1</td>\n",
              "    </tr>\n",
              "    <tr>\n",
              "      <th>4</th>\n",
              "      <td>P00918</td>\n",
              "      <td>MSHHWGYGKHNGPEHWHKDFPIAKGERQSPVDIDTHTAKYDPSLKP...</td>\n",
              "      <td>85</td>\n",
              "      <td>89</td>\n",
              "      <td>DGTYR</td>\n",
              "      <td>1.214</td>\n",
              "      <td>1.908</td>\n",
              "      <td>0.937</td>\n",
              "      <td>4.64</td>\n",
              "      <td>6.867493</td>\n",
              "      <td>0.103846</td>\n",
              "      <td>-0.578846</td>\n",
              "      <td>21.684615</td>\n",
              "      <td>1</td>\n",
              "    </tr>\n",
              "  </tbody>\n",
              "</table>\n",
              "</div>"
            ],
            "text/plain": [
              "  parent_protein_id  ... target\n",
              "0            A2T3T0  ...      1\n",
              "1            F0V2I4  ...      1\n",
              "2            O75508  ...      1\n",
              "3            O84462  ...      1\n",
              "4            P00918  ...      1\n",
              "\n",
              "[5 rows x 14 columns]"
            ]
          },
          "metadata": {
            "tags": []
          },
          "execution_count": 19
        }
      ]
    },
    {
      "cell_type": "code",
      "metadata": {
        "id": "bEZbF1bxRnpn",
        "colab_type": "code",
        "colab": {
          "base_uri": "https://localhost:8080/",
          "height": 226
        },
        "outputId": "de6a7bdc-c350-4a7c-d00a-0df2ebaad3e6"
      },
      "source": [
        "sars.head()"
      ],
      "execution_count": 20,
      "outputs": [
        {
          "output_type": "execute_result",
          "data": {
            "text/html": [
              "<div>\n",
              "<style scoped>\n",
              "    .dataframe tbody tr th:only-of-type {\n",
              "        vertical-align: middle;\n",
              "    }\n",
              "\n",
              "    .dataframe tbody tr th {\n",
              "        vertical-align: top;\n",
              "    }\n",
              "\n",
              "    .dataframe thead th {\n",
              "        text-align: right;\n",
              "    }\n",
              "</style>\n",
              "<table border=\"1\" class=\"dataframe\">\n",
              "  <thead>\n",
              "    <tr style=\"text-align: right;\">\n",
              "      <th></th>\n",
              "      <th>parent_protein_id</th>\n",
              "      <th>protein_seq</th>\n",
              "      <th>start_position</th>\n",
              "      <th>end_position</th>\n",
              "      <th>peptide_seq</th>\n",
              "      <th>chou_fasman</th>\n",
              "      <th>emini</th>\n",
              "      <th>kolaskar_tongaonkar</th>\n",
              "      <th>parker</th>\n",
              "      <th>isoelectric_point</th>\n",
              "      <th>aromaticity</th>\n",
              "      <th>hydrophobicity</th>\n",
              "      <th>stability</th>\n",
              "      <th>target</th>\n",
              "    </tr>\n",
              "  </thead>\n",
              "  <tbody>\n",
              "    <tr>\n",
              "      <th>0</th>\n",
              "      <td>AAU93319</td>\n",
              "      <td>MFIFLLFLTLTSGSDLDRCTTFDDVQAPNYTQHTSSMRGVYYPDEI...</td>\n",
              "      <td>1</td>\n",
              "      <td>17</td>\n",
              "      <td>MFIFLLFLTLTSGSDLD</td>\n",
              "      <td>0.887</td>\n",
              "      <td>0.040</td>\n",
              "      <td>1.056</td>\n",
              "      <td>-2.159</td>\n",
              "      <td>5.569763</td>\n",
              "      <td>0.116335</td>\n",
              "      <td>-0.061116</td>\n",
              "      <td>33.205116</td>\n",
              "      <td>0</td>\n",
              "    </tr>\n",
              "    <tr>\n",
              "      <th>1</th>\n",
              "      <td>AAU93319</td>\n",
              "      <td>MFIFLLFLTLTSGSDLDRCTTFDDVQAPNYTQHTSSMRGVYYPDEI...</td>\n",
              "      <td>1</td>\n",
              "      <td>15</td>\n",
              "      <td>MFIFLLFLTLTSGSD</td>\n",
              "      <td>0.869</td>\n",
              "      <td>0.047</td>\n",
              "      <td>1.056</td>\n",
              "      <td>-2.500</td>\n",
              "      <td>5.569763</td>\n",
              "      <td>0.116335</td>\n",
              "      <td>-0.061116</td>\n",
              "      <td>33.205116</td>\n",
              "      <td>0</td>\n",
              "    </tr>\n",
              "    <tr>\n",
              "      <th>2</th>\n",
              "      <td>AAU93319</td>\n",
              "      <td>MFIFLLFLTLTSGSDLDRCTTFDDVQAPNYTQHTSSMRGVYYPDEI...</td>\n",
              "      <td>2</td>\n",
              "      <td>10</td>\n",
              "      <td>FIFLLFLTL</td>\n",
              "      <td>0.621</td>\n",
              "      <td>0.042</td>\n",
              "      <td>1.148</td>\n",
              "      <td>-7.467</td>\n",
              "      <td>5.569763</td>\n",
              "      <td>0.116335</td>\n",
              "      <td>-0.061116</td>\n",
              "      <td>33.205116</td>\n",
              "      <td>0</td>\n",
              "    </tr>\n",
              "    <tr>\n",
              "      <th>3</th>\n",
              "      <td>AAU93319</td>\n",
              "      <td>MFIFLLFLTLTSGSDLDRCTTFDDVQAPNYTQHTSSMRGVYYPDEI...</td>\n",
              "      <td>6</td>\n",
              "      <td>20</td>\n",
              "      <td>LFLTLTSGSDLDRCT</td>\n",
              "      <td>1.021</td>\n",
              "      <td>0.230</td>\n",
              "      <td>1.049</td>\n",
              "      <td>0.927</td>\n",
              "      <td>5.569763</td>\n",
              "      <td>0.116335</td>\n",
              "      <td>-0.061116</td>\n",
              "      <td>33.205116</td>\n",
              "      <td>0</td>\n",
              "    </tr>\n",
              "    <tr>\n",
              "      <th>4</th>\n",
              "      <td>AAU93319</td>\n",
              "      <td>MFIFLLFLTLTSGSDLDRCTTFDDVQAPNYTQHTSSMRGVYYPDEI...</td>\n",
              "      <td>9</td>\n",
              "      <td>25</td>\n",
              "      <td>TLTSGSDLDRCTTFDDV</td>\n",
              "      <td>1.089</td>\n",
              "      <td>0.627</td>\n",
              "      <td>1.015</td>\n",
              "      <td>3.165</td>\n",
              "      <td>5.569763</td>\n",
              "      <td>0.116335</td>\n",
              "      <td>-0.061116</td>\n",
              "      <td>33.205116</td>\n",
              "      <td>0</td>\n",
              "    </tr>\n",
              "  </tbody>\n",
              "</table>\n",
              "</div>"
            ],
            "text/plain": [
              "  parent_protein_id  ... target\n",
              "0          AAU93319  ...      0\n",
              "1          AAU93319  ...      0\n",
              "2          AAU93319  ...      0\n",
              "3          AAU93319  ...      0\n",
              "4          AAU93319  ...      0\n",
              "\n",
              "[5 rows x 14 columns]"
            ]
          },
          "metadata": {
            "tags": []
          },
          "execution_count": 20
        }
      ]
    },
    {
      "cell_type": "code",
      "metadata": {
        "id": "gdP1bP6eRotB",
        "colab_type": "code",
        "colab": {
          "base_uri": "https://localhost:8080/",
          "height": 226
        },
        "outputId": "d5386318-68f0-47f3-f3cf-53a6620f24cb"
      },
      "source": [
        "covid.head()"
      ],
      "execution_count": 21,
      "outputs": [
        {
          "output_type": "execute_result",
          "data": {
            "text/html": [
              "<div>\n",
              "<style scoped>\n",
              "    .dataframe tbody tr th:only-of-type {\n",
              "        vertical-align: middle;\n",
              "    }\n",
              "\n",
              "    .dataframe tbody tr th {\n",
              "        vertical-align: top;\n",
              "    }\n",
              "\n",
              "    .dataframe thead th {\n",
              "        text-align: right;\n",
              "    }\n",
              "</style>\n",
              "<table border=\"1\" class=\"dataframe\">\n",
              "  <thead>\n",
              "    <tr style=\"text-align: right;\">\n",
              "      <th></th>\n",
              "      <th>parent_protein_id</th>\n",
              "      <th>protein_seq</th>\n",
              "      <th>start_position</th>\n",
              "      <th>end_position</th>\n",
              "      <th>peptide_seq</th>\n",
              "      <th>chou_fasman</th>\n",
              "      <th>emini</th>\n",
              "      <th>kolaskar_tongaonkar</th>\n",
              "      <th>parker</th>\n",
              "      <th>isoelectric_point</th>\n",
              "      <th>aromaticity</th>\n",
              "      <th>hydrophobicity</th>\n",
              "      <th>stability</th>\n",
              "    </tr>\n",
              "  </thead>\n",
              "  <tbody>\n",
              "    <tr>\n",
              "      <th>0</th>\n",
              "      <td>6VYB_A</td>\n",
              "      <td>MGILPSPGMPALLSLVSLLSVLLMGCVAETGTQCVNLTTRTQLPPA...</td>\n",
              "      <td>1.0</td>\n",
              "      <td>5.0</td>\n",
              "      <td>MGILP</td>\n",
              "      <td>0.948</td>\n",
              "      <td>0.280</td>\n",
              "      <td>1.033</td>\n",
              "      <td>-2.72</td>\n",
              "      <td>6.03595</td>\n",
              "      <td>0.10929</td>\n",
              "      <td>-0.138642</td>\n",
              "      <td>31.377603</td>\n",
              "    </tr>\n",
              "    <tr>\n",
              "      <th>1</th>\n",
              "      <td>6VYB_A</td>\n",
              "      <td>MGILPSPGMPALLSLVSLLSVLLMGCVAETGTQCVNLTTRTQLPPA...</td>\n",
              "      <td>2.0</td>\n",
              "      <td>6.0</td>\n",
              "      <td>GILPS</td>\n",
              "      <td>1.114</td>\n",
              "      <td>0.379</td>\n",
              "      <td>1.070</td>\n",
              "      <td>-0.58</td>\n",
              "      <td>6.03595</td>\n",
              "      <td>0.10929</td>\n",
              "      <td>-0.138642</td>\n",
              "      <td>31.377603</td>\n",
              "    </tr>\n",
              "    <tr>\n",
              "      <th>2</th>\n",
              "      <td>6VYB_A</td>\n",
              "      <td>MGILPSPGMPALLSLVSLLSVLLMGCVAETGTQCVNLTTRTQLPPA...</td>\n",
              "      <td>3.0</td>\n",
              "      <td>7.0</td>\n",
              "      <td>ILPSP</td>\n",
              "      <td>1.106</td>\n",
              "      <td>0.592</td>\n",
              "      <td>1.108</td>\n",
              "      <td>-1.30</td>\n",
              "      <td>6.03595</td>\n",
              "      <td>0.10929</td>\n",
              "      <td>-0.138642</td>\n",
              "      <td>31.377603</td>\n",
              "    </tr>\n",
              "    <tr>\n",
              "      <th>3</th>\n",
              "      <td>6VYB_A</td>\n",
              "      <td>MGILPSPGMPALLSLVSLLSVLLMGCVAETGTQCVNLTTRTQLPPA...</td>\n",
              "      <td>4.0</td>\n",
              "      <td>8.0</td>\n",
              "      <td>LPSPG</td>\n",
              "      <td>1.324</td>\n",
              "      <td>0.836</td>\n",
              "      <td>1.053</td>\n",
              "      <td>1.44</td>\n",
              "      <td>6.03595</td>\n",
              "      <td>0.10929</td>\n",
              "      <td>-0.138642</td>\n",
              "      <td>31.377603</td>\n",
              "    </tr>\n",
              "    <tr>\n",
              "      <th>4</th>\n",
              "      <td>6VYB_A</td>\n",
              "      <td>MGILPSPGMPALLSLVSLLSVLLMGCVAETGTQCVNLTTRTQLPPA...</td>\n",
              "      <td>5.0</td>\n",
              "      <td>9.0</td>\n",
              "      <td>PSPGM</td>\n",
              "      <td>1.326</td>\n",
              "      <td>1.004</td>\n",
              "      <td>0.968</td>\n",
              "      <td>2.44</td>\n",
              "      <td>6.03595</td>\n",
              "      <td>0.10929</td>\n",
              "      <td>-0.138642</td>\n",
              "      <td>31.377603</td>\n",
              "    </tr>\n",
              "  </tbody>\n",
              "</table>\n",
              "</div>"
            ],
            "text/plain": [
              "  parent_protein_id  ...  stability\n",
              "0            6VYB_A  ...  31.377603\n",
              "1            6VYB_A  ...  31.377603\n",
              "2            6VYB_A  ...  31.377603\n",
              "3            6VYB_A  ...  31.377603\n",
              "4            6VYB_A  ...  31.377603\n",
              "\n",
              "[5 rows x 13 columns]"
            ]
          },
          "metadata": {
            "tags": []
          },
          "execution_count": 21
        }
      ]
    },
    {
      "cell_type": "code",
      "metadata": {
        "id": "HO8s_d74aQY0",
        "colab_type": "code",
        "colab": {
          "base_uri": "https://localhost:8080/",
          "height": 72
        },
        "outputId": "23ae302c-06a4-4149-f3e2-6551f16bee85"
      },
      "source": [
        "print(\"Shape of SARS : \", sars.shape)\n",
        "print(\"Shape of B-Cell : \", bcell.shape)\n",
        "print(\"Shape of COVID : \", covid.shape)"
      ],
      "execution_count": 22,
      "outputs": [
        {
          "output_type": "stream",
          "text": [
            "Shape of SARS :  (520, 14)\n",
            "Shape of B-Cell :  (14387, 14)\n",
            "Shape of COVID :  (8941, 13)\n"
          ],
          "name": "stdout"
        }
      ]
    },
    {
      "cell_type": "markdown",
      "metadata": {
        "id": "YxIN6iWtesPF",
        "colab_type": "text"
      },
      "source": [
        "As we are going to train the data of SARS and B-Cell, we will combine the data of both as one and put them into a model to interprete in the training data(COVID data)."
      ]
    },
    {
      "cell_type": "code",
      "metadata": {
        "id": "5sDrnCtrUqxW",
        "colab_type": "code",
        "colab": {}
      },
      "source": [
        "# Combining two columns with same column name\n",
        "# Reference - https://stackoverflow.com/questions/21435176/appending-two-dataframes-with-same-columns-different-order\n",
        "\n",
        "bcell_sars = bcell.append(sars, ignore_index=True)"
      ],
      "execution_count": 23,
      "outputs": []
    },
    {
      "cell_type": "code",
      "metadata": {
        "id": "rjsKpl1oDOTU",
        "colab_type": "code",
        "colab": {
          "base_uri": "https://localhost:8080/",
          "height": 35
        },
        "outputId": "d379c9f4-11e9-4d04-a92b-d600444f3052"
      },
      "source": [
        "bcell_sars.shape"
      ],
      "execution_count": 24,
      "outputs": [
        {
          "output_type": "execute_result",
          "data": {
            "text/plain": [
              "(14907, 14)"
            ]
          },
          "metadata": {
            "tags": []
          },
          "execution_count": 24
        }
      ]
    },
    {
      "cell_type": "code",
      "metadata": {
        "id": "V6lGLdXKZ3w4",
        "colab_type": "code",
        "colab": {
          "base_uri": "https://localhost:8080/",
          "height": 697
        },
        "outputId": "ffb8d15c-e229-4062-8bbf-1e9be3b64563"
      },
      "source": [
        "bcell_sars.head(20)"
      ],
      "execution_count": 25,
      "outputs": [
        {
          "output_type": "execute_result",
          "data": {
            "text/html": [
              "<div>\n",
              "<style scoped>\n",
              "    .dataframe tbody tr th:only-of-type {\n",
              "        vertical-align: middle;\n",
              "    }\n",
              "\n",
              "    .dataframe tbody tr th {\n",
              "        vertical-align: top;\n",
              "    }\n",
              "\n",
              "    .dataframe thead th {\n",
              "        text-align: right;\n",
              "    }\n",
              "</style>\n",
              "<table border=\"1\" class=\"dataframe\">\n",
              "  <thead>\n",
              "    <tr style=\"text-align: right;\">\n",
              "      <th></th>\n",
              "      <th>parent_protein_id</th>\n",
              "      <th>protein_seq</th>\n",
              "      <th>start_position</th>\n",
              "      <th>end_position</th>\n",
              "      <th>peptide_seq</th>\n",
              "      <th>chou_fasman</th>\n",
              "      <th>emini</th>\n",
              "      <th>kolaskar_tongaonkar</th>\n",
              "      <th>parker</th>\n",
              "      <th>isoelectric_point</th>\n",
              "      <th>aromaticity</th>\n",
              "      <th>hydrophobicity</th>\n",
              "      <th>stability</th>\n",
              "      <th>target</th>\n",
              "    </tr>\n",
              "  </thead>\n",
              "  <tbody>\n",
              "    <tr>\n",
              "      <th>0</th>\n",
              "      <td>A2T3T0</td>\n",
              "      <td>MDVLYSLSKTLKDARDKIVEGTLYSNVSDLIQQFNQMIITMNGNEF...</td>\n",
              "      <td>161</td>\n",
              "      <td>165</td>\n",
              "      <td>SASFT</td>\n",
              "      <td>1.016</td>\n",
              "      <td>0.703</td>\n",
              "      <td>1.018</td>\n",
              "      <td>2.22</td>\n",
              "      <td>5.810364</td>\n",
              "      <td>0.103275</td>\n",
              "      <td>-0.143829</td>\n",
              "      <td>40.273300</td>\n",
              "      <td>1</td>\n",
              "    </tr>\n",
              "    <tr>\n",
              "      <th>1</th>\n",
              "      <td>F0V2I4</td>\n",
              "      <td>MTIHKVAINGFGRIGRLLFRNLLSSQGVQVVAVNDVVDIKVLTHLL...</td>\n",
              "      <td>251</td>\n",
              "      <td>255</td>\n",
              "      <td>LCLKI</td>\n",
              "      <td>0.770</td>\n",
              "      <td>0.179</td>\n",
              "      <td>1.199</td>\n",
              "      <td>-3.86</td>\n",
              "      <td>6.210876</td>\n",
              "      <td>0.065476</td>\n",
              "      <td>-0.036905</td>\n",
              "      <td>24.998512</td>\n",
              "      <td>1</td>\n",
              "    </tr>\n",
              "    <tr>\n",
              "      <th>2</th>\n",
              "      <td>O75508</td>\n",
              "      <td>MVATCLQVVGFVTSFVGWIGVIVTTSTNDWVVTCGYTIPTCRKLDE...</td>\n",
              "      <td>145</td>\n",
              "      <td>149</td>\n",
              "      <td>AHRET</td>\n",
              "      <td>0.852</td>\n",
              "      <td>3.427</td>\n",
              "      <td>0.960</td>\n",
              "      <td>4.28</td>\n",
              "      <td>8.223938</td>\n",
              "      <td>0.091787</td>\n",
              "      <td>0.879227</td>\n",
              "      <td>27.863333</td>\n",
              "      <td>1</td>\n",
              "    </tr>\n",
              "    <tr>\n",
              "      <th>3</th>\n",
              "      <td>O84462</td>\n",
              "      <td>MTNSISGYQPTVTTSTSSTTSASGASGSLGASSVSTTANATVTQTA...</td>\n",
              "      <td>152</td>\n",
              "      <td>156</td>\n",
              "      <td>SNYDD</td>\n",
              "      <td>1.410</td>\n",
              "      <td>2.548</td>\n",
              "      <td>0.936</td>\n",
              "      <td>6.32</td>\n",
              "      <td>4.237976</td>\n",
              "      <td>0.044776</td>\n",
              "      <td>-0.521393</td>\n",
              "      <td>30.765373</td>\n",
              "      <td>1</td>\n",
              "    </tr>\n",
              "    <tr>\n",
              "      <th>4</th>\n",
              "      <td>P00918</td>\n",
              "      <td>MSHHWGYGKHNGPEHWHKDFPIAKGERQSPVDIDTHTAKYDPSLKP...</td>\n",
              "      <td>85</td>\n",
              "      <td>89</td>\n",
              "      <td>DGTYR</td>\n",
              "      <td>1.214</td>\n",
              "      <td>1.908</td>\n",
              "      <td>0.937</td>\n",
              "      <td>4.64</td>\n",
              "      <td>6.867493</td>\n",
              "      <td>0.103846</td>\n",
              "      <td>-0.578846</td>\n",
              "      <td>21.684615</td>\n",
              "      <td>1</td>\n",
              "    </tr>\n",
              "    <tr>\n",
              "      <th>5</th>\n",
              "      <td>P00918</td>\n",
              "      <td>MSHHWGYGKHNGPEHWHKDFPIAKGERQSPVDIDTHTAKYDPSLKP...</td>\n",
              "      <td>155</td>\n",
              "      <td>159</td>\n",
              "      <td>GLQKV</td>\n",
              "      <td>0.928</td>\n",
              "      <td>0.547</td>\n",
              "      <td>1.090</td>\n",
              "      <td>0.90</td>\n",
              "      <td>6.867493</td>\n",
              "      <td>0.103846</td>\n",
              "      <td>-0.578846</td>\n",
              "      <td>21.684615</td>\n",
              "      <td>1</td>\n",
              "    </tr>\n",
              "    <tr>\n",
              "      <th>6</th>\n",
              "      <td>P00918</td>\n",
              "      <td>MSHHWGYGKHNGPEHWHKDFPIAKGERQSPVDIDTHTAKYDPSLKP...</td>\n",
              "      <td>22</td>\n",
              "      <td>26</td>\n",
              "      <td>IAKGE</td>\n",
              "      <td>0.888</td>\n",
              "      <td>0.633</td>\n",
              "      <td>0.974</td>\n",
              "      <td>2.66</td>\n",
              "      <td>6.867493</td>\n",
              "      <td>0.103846</td>\n",
              "      <td>-0.578846</td>\n",
              "      <td>21.684615</td>\n",
              "      <td>1</td>\n",
              "    </tr>\n",
              "    <tr>\n",
              "      <th>7</th>\n",
              "      <td>P00918</td>\n",
              "      <td>MSHHWGYGKHNGPEHWHKDFPIAKGERQSPVDIDTHTAKYDPSLKP...</td>\n",
              "      <td>253</td>\n",
              "      <td>257</td>\n",
              "      <td>RQIKA</td>\n",
              "      <td>0.814</td>\n",
              "      <td>1.252</td>\n",
              "      <td>1.007</td>\n",
              "      <td>2.00</td>\n",
              "      <td>6.867493</td>\n",
              "      <td>0.103846</td>\n",
              "      <td>-0.578846</td>\n",
              "      <td>21.684615</td>\n",
              "      <td>1</td>\n",
              "    </tr>\n",
              "    <tr>\n",
              "      <th>8</th>\n",
              "      <td>P00918</td>\n",
              "      <td>MSHHWGYGKHNGPEHWHKDFPIAKGERQSPVDIDTHTAKYDPSLKP...</td>\n",
              "      <td>218</td>\n",
              "      <td>222</td>\n",
              "      <td>SSEQV</td>\n",
              "      <td>1.016</td>\n",
              "      <td>1.042</td>\n",
              "      <td>1.055</td>\n",
              "      <td>4.62</td>\n",
              "      <td>6.867493</td>\n",
              "      <td>0.103846</td>\n",
              "      <td>-0.578846</td>\n",
              "      <td>21.684615</td>\n",
              "      <td>1</td>\n",
              "    </tr>\n",
              "    <tr>\n",
              "      <th>9</th>\n",
              "      <td>P01012</td>\n",
              "      <td>MGSIGAASMEFCFDVFKELKVHHANENIFYCPIAIMSALAMVYLGA...</td>\n",
              "      <td>261</td>\n",
              "      <td>265</td>\n",
              "      <td>NFEKL</td>\n",
              "      <td>0.900</td>\n",
              "      <td>1.301</td>\n",
              "      <td>0.980</td>\n",
              "      <td>0.42</td>\n",
              "      <td>5.193909</td>\n",
              "      <td>0.085492</td>\n",
              "      <td>-0.001036</td>\n",
              "      <td>37.108575</td>\n",
              "      <td>1</td>\n",
              "    </tr>\n",
              "    <tr>\n",
              "      <th>10</th>\n",
              "      <td>P01135</td>\n",
              "      <td>MVPSAGQLALFALGIVLAACQALENSTSPLSADPPVAAAVVSHFND...</td>\n",
              "      <td>42</td>\n",
              "      <td>46</td>\n",
              "      <td>SHFND</td>\n",
              "      <td>1.200</td>\n",
              "      <td>1.832</td>\n",
              "      <td>0.970</td>\n",
              "      <td>3.28</td>\n",
              "      <td>7.513855</td>\n",
              "      <td>0.043750</td>\n",
              "      <td>0.551250</td>\n",
              "      <td>28.636875</td>\n",
              "      <td>1</td>\n",
              "    </tr>\n",
              "    <tr>\n",
              "      <th>11</th>\n",
              "      <td>P01519</td>\n",
              "      <td>ECCNPACGRHYSCGK</td>\n",
              "      <td>3</td>\n",
              "      <td>7</td>\n",
              "      <td>CNPAC</td>\n",
              "      <td>1.224</td>\n",
              "      <td>0.368</td>\n",
              "      <td>1.146</td>\n",
              "      <td>2.80</td>\n",
              "      <td>7.969910</td>\n",
              "      <td>0.066667</td>\n",
              "      <td>-0.753333</td>\n",
              "      <td>137.046667</td>\n",
              "      <td>1</td>\n",
              "    </tr>\n",
              "    <tr>\n",
              "      <th>12</th>\n",
              "      <td>P01519</td>\n",
              "      <td>ECCNPACGRHYSCGK</td>\n",
              "      <td>5</td>\n",
              "      <td>9</td>\n",
              "      <td>PACGR</td>\n",
              "      <td>1.176</td>\n",
              "      <td>0.828</td>\n",
              "      <td>1.057</td>\n",
              "      <td>3.10</td>\n",
              "      <td>7.969910</td>\n",
              "      <td>0.066667</td>\n",
              "      <td>-0.753333</td>\n",
              "      <td>137.046667</td>\n",
              "      <td>0</td>\n",
              "    </tr>\n",
              "    <tr>\n",
              "      <th>13</th>\n",
              "      <td>P01519</td>\n",
              "      <td>ECCNPACGRHYSCGK</td>\n",
              "      <td>9</td>\n",
              "      <td>13</td>\n",
              "      <td>RHYSC</td>\n",
              "      <td>1.132</td>\n",
              "      <td>1.530</td>\n",
              "      <td>1.113</td>\n",
              "      <td>2.46</td>\n",
              "      <td>7.969910</td>\n",
              "      <td>0.066667</td>\n",
              "      <td>-0.753333</td>\n",
              "      <td>137.046667</td>\n",
              "      <td>0</td>\n",
              "    </tr>\n",
              "    <tr>\n",
              "      <th>14</th>\n",
              "      <td>P01520</td>\n",
              "      <td>ECCHPACGKHFSC</td>\n",
              "      <td>2</td>\n",
              "      <td>6</td>\n",
              "      <td>CCHPA</td>\n",
              "      <td>1.102</td>\n",
              "      <td>0.437</td>\n",
              "      <td>1.211</td>\n",
              "      <td>1.82</td>\n",
              "      <td>6.962585</td>\n",
              "      <td>0.076923</td>\n",
              "      <td>-0.153846</td>\n",
              "      <td>125.076923</td>\n",
              "      <td>0</td>\n",
              "    </tr>\n",
              "    <tr>\n",
              "      <th>15</th>\n",
              "      <td>P02229</td>\n",
              "      <td>MKFLILALCFAAASALSADQISTVQASFDKVKGDPVGILYAVFKAD...</td>\n",
              "      <td>28</td>\n",
              "      <td>32</td>\n",
              "      <td>FDKVK</td>\n",
              "      <td>0.916</td>\n",
              "      <td>1.757</td>\n",
              "      <td>1.040</td>\n",
              "      <td>1.70</td>\n",
              "      <td>6.899475</td>\n",
              "      <td>0.125828</td>\n",
              "      <td>0.256291</td>\n",
              "      <td>20.358278</td>\n",
              "      <td>1</td>\n",
              "    </tr>\n",
              "    <tr>\n",
              "      <th>16</th>\n",
              "      <td>P02710</td>\n",
              "      <td>MILCSYWHVGLVLLLFSCCGLVLGSEHETRLVANLLENYNKVIRPV...</td>\n",
              "      <td>105</td>\n",
              "      <td>109</td>\n",
              "      <td>PSDDV</td>\n",
              "      <td>1.274</td>\n",
              "      <td>1.503</td>\n",
              "      <td>1.038</td>\n",
              "      <td>4.98</td>\n",
              "      <td>5.606750</td>\n",
              "      <td>0.108460</td>\n",
              "      <td>0.280694</td>\n",
              "      <td>29.829957</td>\n",
              "      <td>1</td>\n",
              "    </tr>\n",
              "    <tr>\n",
              "      <th>17</th>\n",
              "      <td>P02710</td>\n",
              "      <td>MILCSYWHVGLVLLLFSCCGLVLGSEHETRLVANLLENYNKVIRPV...</td>\n",
              "      <td>91</td>\n",
              "      <td>95</td>\n",
              "      <td>WNPAD</td>\n",
              "      <td>1.232</td>\n",
              "      <td>1.546</td>\n",
              "      <td>0.933</td>\n",
              "      <td>2.24</td>\n",
              "      <td>5.606750</td>\n",
              "      <td>0.108460</td>\n",
              "      <td>0.280694</td>\n",
              "      <td>29.829957</td>\n",
              "      <td>1</td>\n",
              "    </tr>\n",
              "    <tr>\n",
              "      <th>18</th>\n",
              "      <td>P02730</td>\n",
              "      <td>MEELQDDYEDMMEENLEQEEYEDPDIPESQMEEPAAHDTEATATDY...</td>\n",
              "      <td>850</td>\n",
              "      <td>854</td>\n",
              "      <td>VKSTP</td>\n",
              "      <td>1.084</td>\n",
              "      <td>1.429</td>\n",
              "      <td>1.060</td>\n",
              "      <td>3.16</td>\n",
              "      <td>5.075623</td>\n",
              "      <td>0.097695</td>\n",
              "      <td>0.213282</td>\n",
              "      <td>48.224270</td>\n",
              "      <td>1</td>\n",
              "    </tr>\n",
              "    <tr>\n",
              "      <th>19</th>\n",
              "      <td>P02820</td>\n",
              "      <td>MRTPMLLALLALATLCLAGRADAKPGDAESGKGAAFVSKQEGSEVV...</td>\n",
              "      <td>96</td>\n",
              "      <td>100</td>\n",
              "      <td>FYGPV</td>\n",
              "      <td>1.064</td>\n",
              "      <td>0.407</td>\n",
              "      <td>1.115</td>\n",
              "      <td>-1.40</td>\n",
              "      <td>5.639099</td>\n",
              "      <td>0.080000</td>\n",
              "      <td>-0.344000</td>\n",
              "      <td>50.452100</td>\n",
              "      <td>0</td>\n",
              "    </tr>\n",
              "  </tbody>\n",
              "</table>\n",
              "</div>"
            ],
            "text/plain": [
              "   parent_protein_id  ... target\n",
              "0             A2T3T0  ...      1\n",
              "1             F0V2I4  ...      1\n",
              "2             O75508  ...      1\n",
              "3             O84462  ...      1\n",
              "4             P00918  ...      1\n",
              "5             P00918  ...      1\n",
              "6             P00918  ...      1\n",
              "7             P00918  ...      1\n",
              "8             P00918  ...      1\n",
              "9             P01012  ...      1\n",
              "10            P01135  ...      1\n",
              "11            P01519  ...      1\n",
              "12            P01519  ...      0\n",
              "13            P01519  ...      0\n",
              "14            P01520  ...      0\n",
              "15            P02229  ...      1\n",
              "16            P02710  ...      1\n",
              "17            P02710  ...      1\n",
              "18            P02730  ...      1\n",
              "19            P02820  ...      0\n",
              "\n",
              "[20 rows x 14 columns]"
            ]
          },
          "metadata": {
            "tags": []
          },
          "execution_count": 25
        }
      ]
    },
    {
      "cell_type": "code",
      "metadata": {
        "id": "8aBStoU5ETuG",
        "colab_type": "code",
        "colab": {
          "base_uri": "https://localhost:8080/",
          "height": 320
        },
        "outputId": "67933bb2-11bb-4e6f-a4c8-8994bf5e7e97"
      },
      "source": [
        "bcell_sars.describe()"
      ],
      "execution_count": 26,
      "outputs": [
        {
          "output_type": "execute_result",
          "data": {
            "text/html": [
              "<div>\n",
              "<style scoped>\n",
              "    .dataframe tbody tr th:only-of-type {\n",
              "        vertical-align: middle;\n",
              "    }\n",
              "\n",
              "    .dataframe tbody tr th {\n",
              "        vertical-align: top;\n",
              "    }\n",
              "\n",
              "    .dataframe thead th {\n",
              "        text-align: right;\n",
              "    }\n",
              "</style>\n",
              "<table border=\"1\" class=\"dataframe\">\n",
              "  <thead>\n",
              "    <tr style=\"text-align: right;\">\n",
              "      <th></th>\n",
              "      <th>start_position</th>\n",
              "      <th>end_position</th>\n",
              "      <th>chou_fasman</th>\n",
              "      <th>emini</th>\n",
              "      <th>kolaskar_tongaonkar</th>\n",
              "      <th>parker</th>\n",
              "      <th>isoelectric_point</th>\n",
              "      <th>aromaticity</th>\n",
              "      <th>hydrophobicity</th>\n",
              "      <th>stability</th>\n",
              "      <th>target</th>\n",
              "    </tr>\n",
              "  </thead>\n",
              "  <tbody>\n",
              "    <tr>\n",
              "      <th>count</th>\n",
              "      <td>14907.000000</td>\n",
              "      <td>14907.000000</td>\n",
              "      <td>14907.000000</td>\n",
              "      <td>14907.000000</td>\n",
              "      <td>14907.000000</td>\n",
              "      <td>14907.000000</td>\n",
              "      <td>14907.000000</td>\n",
              "      <td>14907.000000</td>\n",
              "      <td>14907.000000</td>\n",
              "      <td>14907.000000</td>\n",
              "      <td>14907.000000</td>\n",
              "    </tr>\n",
              "    <tr>\n",
              "      <th>mean</th>\n",
              "      <td>308.845173</td>\n",
              "      <td>319.519420</td>\n",
              "      <td>0.994906</td>\n",
              "      <td>1.082811</td>\n",
              "      <td>1.021808</td>\n",
              "      <td>1.750098</td>\n",
              "      <td>7.015227</td>\n",
              "      <td>0.077143</td>\n",
              "      <td>-0.394063</td>\n",
              "      <td>43.337674</td>\n",
              "      <td>0.271148</td>\n",
              "    </tr>\n",
              "    <tr>\n",
              "      <th>std</th>\n",
              "      <td>358.433563</td>\n",
              "      <td>358.647859</td>\n",
              "      <td>0.123656</td>\n",
              "      <td>1.826098</td>\n",
              "      <td>0.053430</td>\n",
              "      <td>1.954424</td>\n",
              "      <td>1.875713</td>\n",
              "      <td>0.026388</td>\n",
              "      <td>0.392808</td>\n",
              "      <td>16.501627</td>\n",
              "      <td>0.444567</td>\n",
              "    </tr>\n",
              "    <tr>\n",
              "      <th>min</th>\n",
              "      <td>1.000000</td>\n",
              "      <td>6.000000</td>\n",
              "      <td>0.534000</td>\n",
              "      <td>0.000000</td>\n",
              "      <td>0.838000</td>\n",
              "      <td>-9.029000</td>\n",
              "      <td>3.686096</td>\n",
              "      <td>0.000000</td>\n",
              "      <td>-1.971171</td>\n",
              "      <td>5.448936</td>\n",
              "      <td>0.000000</td>\n",
              "    </tr>\n",
              "    <tr>\n",
              "      <th>25%</th>\n",
              "      <td>86.000000</td>\n",
              "      <td>96.000000</td>\n",
              "      <td>0.913000</td>\n",
              "      <td>0.244000</td>\n",
              "      <td>0.987000</td>\n",
              "      <td>0.600000</td>\n",
              "      <td>5.569763</td>\n",
              "      <td>0.062500</td>\n",
              "      <td>-0.600131</td>\n",
              "      <td>31.725753</td>\n",
              "      <td>0.000000</td>\n",
              "    </tr>\n",
              "    <tr>\n",
              "      <th>50%</th>\n",
              "      <td>197.000000</td>\n",
              "      <td>208.000000</td>\n",
              "      <td>0.991000</td>\n",
              "      <td>0.551000</td>\n",
              "      <td>1.021000</td>\n",
              "      <td>1.775000</td>\n",
              "      <td>6.447815</td>\n",
              "      <td>0.075949</td>\n",
              "      <td>-0.318259</td>\n",
              "      <td>41.948275</td>\n",
              "      <td>0.000000</td>\n",
              "    </tr>\n",
              "    <tr>\n",
              "      <th>75%</th>\n",
              "      <td>400.000000</td>\n",
              "      <td>411.000000</td>\n",
              "      <td>1.073000</td>\n",
              "      <td>1.208500</td>\n",
              "      <td>1.055000</td>\n",
              "      <td>2.960000</td>\n",
              "      <td>8.676575</td>\n",
              "      <td>0.093458</td>\n",
              "      <td>-0.189591</td>\n",
              "      <td>49.101172</td>\n",
              "      <td>1.000000</td>\n",
              "    </tr>\n",
              "    <tr>\n",
              "      <th>max</th>\n",
              "      <td>3079.000000</td>\n",
              "      <td>3086.000000</td>\n",
              "      <td>1.546000</td>\n",
              "      <td>40.605000</td>\n",
              "      <td>1.255000</td>\n",
              "      <td>9.120000</td>\n",
              "      <td>12.232727</td>\n",
              "      <td>0.182254</td>\n",
              "      <td>1.267089</td>\n",
              "      <td>137.046667</td>\n",
              "      <td>1.000000</td>\n",
              "    </tr>\n",
              "  </tbody>\n",
              "</table>\n",
              "</div>"
            ],
            "text/plain": [
              "       start_position  end_position  ...     stability        target\n",
              "count    14907.000000  14907.000000  ...  14907.000000  14907.000000\n",
              "mean       308.845173    319.519420  ...     43.337674      0.271148\n",
              "std        358.433563    358.647859  ...     16.501627      0.444567\n",
              "min          1.000000      6.000000  ...      5.448936      0.000000\n",
              "25%         86.000000     96.000000  ...     31.725753      0.000000\n",
              "50%        197.000000    208.000000  ...     41.948275      0.000000\n",
              "75%        400.000000    411.000000  ...     49.101172      1.000000\n",
              "max       3079.000000   3086.000000  ...    137.046667      1.000000\n",
              "\n",
              "[8 rows x 11 columns]"
            ]
          },
          "metadata": {
            "tags": []
          },
          "execution_count": 26
        }
      ]
    },
    {
      "cell_type": "code",
      "metadata": {
        "id": "Lr6LBh5zcdks",
        "colab_type": "code",
        "colab": {
          "base_uri": "https://localhost:8080/",
          "height": 403
        },
        "outputId": "cdbe8ce5-ea4e-4099-ca53-024f9054ef0f"
      },
      "source": [
        "bcell_sars.info(verbose=True, memory_usage='deep')"
      ],
      "execution_count": 27,
      "outputs": [
        {
          "output_type": "stream",
          "text": [
            "<class 'pandas.core.frame.DataFrame'>\n",
            "RangeIndex: 14907 entries, 0 to 14906\n",
            "Data columns (total 14 columns):\n",
            " #   Column               Non-Null Count  Dtype  \n",
            "---  ------               --------------  -----  \n",
            " 0   parent_protein_id    14907 non-null  object \n",
            " 1   protein_seq          14907 non-null  object \n",
            " 2   start_position       14907 non-null  int64  \n",
            " 3   end_position         14907 non-null  int64  \n",
            " 4   peptide_seq          14907 non-null  object \n",
            " 5   chou_fasman          14907 non-null  float64\n",
            " 6   emini                14907 non-null  float64\n",
            " 7   kolaskar_tongaonkar  14907 non-null  float64\n",
            " 8   parker               14907 non-null  float64\n",
            " 9   isoelectric_point    14907 non-null  float64\n",
            " 10  aromaticity          14907 non-null  float64\n",
            " 11  hydrophobicity       14907 non-null  float64\n",
            " 12  stability            14907 non-null  float64\n",
            " 13  target               14907 non-null  int64  \n",
            "dtypes: float64(8), int64(3), object(3)\n",
            "memory usage: 12.7 MB\n"
          ],
          "name": "stdout"
        }
      ]
    },
    {
      "cell_type": "code",
      "metadata": {
        "id": "GC3sepZ5lTTN",
        "colab_type": "code",
        "colab": {
          "base_uri": "https://localhost:8080/",
          "height": 69
        },
        "outputId": "22e21929-efc3-4032-ef72-357cdf7350f4"
      },
      "source": [
        "bcell_sars[bcell_sars.isna().any(axis=1)]"
      ],
      "execution_count": 28,
      "outputs": [
        {
          "output_type": "execute_result",
          "data": {
            "text/html": [
              "<div>\n",
              "<style scoped>\n",
              "    .dataframe tbody tr th:only-of-type {\n",
              "        vertical-align: middle;\n",
              "    }\n",
              "\n",
              "    .dataframe tbody tr th {\n",
              "        vertical-align: top;\n",
              "    }\n",
              "\n",
              "    .dataframe thead th {\n",
              "        text-align: right;\n",
              "    }\n",
              "</style>\n",
              "<table border=\"1\" class=\"dataframe\">\n",
              "  <thead>\n",
              "    <tr style=\"text-align: right;\">\n",
              "      <th></th>\n",
              "      <th>parent_protein_id</th>\n",
              "      <th>protein_seq</th>\n",
              "      <th>start_position</th>\n",
              "      <th>end_position</th>\n",
              "      <th>peptide_seq</th>\n",
              "      <th>chou_fasman</th>\n",
              "      <th>emini</th>\n",
              "      <th>kolaskar_tongaonkar</th>\n",
              "      <th>parker</th>\n",
              "      <th>isoelectric_point</th>\n",
              "      <th>aromaticity</th>\n",
              "      <th>hydrophobicity</th>\n",
              "      <th>stability</th>\n",
              "      <th>target</th>\n",
              "    </tr>\n",
              "  </thead>\n",
              "  <tbody>\n",
              "  </tbody>\n",
              "</table>\n",
              "</div>"
            ],
            "text/plain": [
              "Empty DataFrame\n",
              "Columns: [parent_protein_id, protein_seq, start_position, end_position, peptide_seq, chou_fasman, emini, kolaskar_tongaonkar, parker, isoelectric_point, aromaticity, hydrophobicity, stability, target]\n",
              "Index: []"
            ]
          },
          "metadata": {
            "tags": []
          },
          "execution_count": 28
        }
      ]
    },
    {
      "cell_type": "markdown",
      "metadata": {
        "id": "XfCjaRn5eDTY",
        "colab_type": "text"
      },
      "source": [
        "As there are no data missing, we can proceed without data cleaning process."
      ]
    },
    {
      "cell_type": "code",
      "metadata": {
        "id": "cWeve5zXBcBD",
        "colab_type": "code",
        "colab": {
          "base_uri": "https://localhost:8080/",
          "height": 109
        },
        "outputId": "dd8cc192-5f45-4981-f56c-b8dd6647f922"
      },
      "source": [
        "bcell_sars.columns"
      ],
      "execution_count": 29,
      "outputs": [
        {
          "output_type": "execute_result",
          "data": {
            "text/plain": [
              "Index(['parent_protein_id', 'protein_seq', 'start_position', 'end_position',\n",
              "       'peptide_seq', 'chou_fasman', 'emini', 'kolaskar_tongaonkar', 'parker',\n",
              "       'isoelectric_point', 'aromaticity', 'hydrophobicity', 'stability',\n",
              "       'target'],\n",
              "      dtype='object')"
            ]
          },
          "metadata": {
            "tags": []
          },
          "execution_count": 29
        }
      ]
    },
    {
      "cell_type": "code",
      "metadata": {
        "id": "m5c3Qh0mEtv_",
        "colab_type": "code",
        "colab": {}
      },
      "source": [
        "features = ['chou_fasman', 'emini', 'kolaskar_tongaonkar', 'parker',\n",
        "       'isoelectric_point', 'aromaticity', 'hydrophobicity', 'stability']\n",
        "labels = ['target']"
      ],
      "execution_count": 30,
      "outputs": []
    },
    {
      "cell_type": "code",
      "metadata": {
        "id": "kIRsNK9_fect",
        "colab_type": "code",
        "colab": {
          "base_uri": "https://localhost:8080/",
          "height": 522
        },
        "outputId": "68e99365-84e0-4d72-e85f-25826806d1c8"
      },
      "source": [
        "corr = bcell_sars[features].corr()\n",
        "\n",
        "fig = plt.figure(figsize=(12,7))\n",
        "sns.heatmap(corr,\n",
        "            annot=True,\n",
        "            square=True,\n",
        "            mask = np.tril(corr))\n",
        "plt.show()"
      ],
      "execution_count": 31,
      "outputs": [
        {
          "output_type": "display_data",
          "data": {
            "image/png": "[encoded data removed]",
            "text/plain": [
              "<Figure size 864x504 with 2 Axes>"
            ]
          },
          "metadata": {
            "tags": [],
            "needs_background": "light"
          }
        }
      ]
    },
    {
      "cell_type": "code",
      "metadata": {
        "id": "mva2hDYEk__W",
        "colab_type": "code",
        "colab": {
          "base_uri": "https://localhost:8080/",
          "height": 966
        },
        "outputId": "3896ffd2-e215-4577-83b9-60f19dea9d02"
      },
      "source": [
        "sns.pairplot(corr)"
      ],
      "execution_count": 32,
      "outputs": [
        {
          "output_type": "execute_result",
          "data": {
            "text/plain": [
              "<seaborn.axisgrid.PairGrid at 0x7fd8349fd3c8>"
            ]
          },
          "metadata": {
            "tags": []
          },
          "execution_count": 32
        },
        {
          "output_type": "display_data",
          "data": {
            "image/png": "[encoded data removed]",
            "text/plain": [
              "<Figure size 1440x1440 with 72 Axes>"
            ]
          },
          "metadata": {
            "tags": [],
            "needs_background": "light"
          }
        }
      ]
    },
    {
      "cell_type": "code",
      "metadata": {
        "id": "fmgI5LARmW-H",
        "colab_type": "code",
        "colab": {}
      },
      "source": [
        "X = bcell_sars.iloc[:,5:13]\n",
        "Y = bcell_sars.iloc[:,-1]"
      ],
      "execution_count": 37,
      "outputs": []
    },
    {
      "cell_type": "code",
      "metadata": {
        "id": "FGWb9KbvZUDt",
        "colab_type": "code",
        "colab": {
          "base_uri": "https://localhost:8080/",
          "height": 146
        },
        "outputId": "2001b3d6-9eb8-4478-d86c-4ae01739027b"
      },
      "source": [
        "from sklearn.ensemble import ExtraTreesRegressor\n",
        "model = ExtraTreesRegressor()\n",
        "model.fit(X,Y)"
      ],
      "execution_count": 38,
      "outputs": [
        {
          "output_type": "execute_result",
          "data": {
            "text/plain": [
              "ExtraTreesRegressor(bootstrap=False, ccp_alpha=0.0, criterion='mse',\n",
              "                    max_depth=None, max_features='auto', max_leaf_nodes=None,\n",
              "                    max_samples=None, min_impurity_decrease=0.0,\n",
              "                    min_impurity_split=None, min_samples_leaf=1,\n",
              "                    min_samples_split=2, min_weight_fraction_leaf=0.0,\n",
              "                    n_estimators=100, n_jobs=None, oob_score=False,\n",
              "                    random_state=None, verbose=0, warm_start=False)"
            ]
          },
          "metadata": {
            "tags": []
          },
          "execution_count": 38
        }
      ]
    },
    {
      "cell_type": "code",
      "metadata": {
        "id": "xMYa8OHtZVEF",
        "colab_type": "code",
        "colab": {
          "base_uri": "https://localhost:8080/",
          "height": 54
        },
        "outputId": "0ca79b7a-67b2-4c84-8f5d-d0cbb4adb4ff"
      },
      "source": [
        "print(model.feature_importances_)"
      ],
      "execution_count": 39,
      "outputs": [
        {
          "output_type": "stream",
          "text": [
            "[0.13537103 0.12948814 0.12564289 0.13747556 0.13239984 0.11800323\n",
            " 0.114708   0.1069113 ]\n"
          ],
          "name": "stdout"
        }
      ]
    },
    {
      "cell_type": "code",
      "metadata": {
        "id": "NgB93mGwaN6p",
        "colab_type": "code",
        "colab": {
          "base_uri": "https://localhost:8080/",
          "height": 265
        },
        "outputId": "b57e8929-e932-45c2-bee6-d35a756a729b"
      },
      "source": [
        "feat_importance = pd.Series(model.feature_importances_, index=X.columns)\n",
        "feat_importance.nlargest(10).plot(kind='barh')\n",
        "plt.show()"
      ],
      "execution_count": 41,
      "outputs": [
        {
          "output_type": "display_data",
          "data": {
            "image/png": "[encoded data removed]",
            "text/plain": [
              "<Figure size 432x288 with 1 Axes>"
            ]
          },
          "metadata": {
            "tags": [],
            "needs_background": "light"
          }
        }
      ]
    }
  ]
}